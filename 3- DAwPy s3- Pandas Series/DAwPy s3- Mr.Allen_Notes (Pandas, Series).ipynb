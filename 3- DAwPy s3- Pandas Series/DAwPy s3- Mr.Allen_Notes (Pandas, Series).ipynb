{
 "cells": [
  {
   "cell_type": "markdown",
   "id": "8dda0845",
   "metadata": {},
   "source": [
    "pandas ;genel anlamıyla data framelerle çalışmak için kullanılan bir library.pandasla verileri analiz edeceğiz,istatistiksel teorilere dayalı sonuçlar çıkaracağız,temizleyeceğiz ve işleyeceğiz.\n",
    "\n"
   ]
  },
  {
   "cell_type": "code",
   "execution_count": 5,
   "id": "ccdf51c4",
   "metadata": {},
   "outputs": [],
   "source": [
    "import pandas as pd"
   ]
  },
  {
   "cell_type": "markdown",
   "id": "0a74d0ea",
   "metadata": {},
   "source": [
    "pandas deyince iki tane tip aklımıza gelecek.\n",
    "1-) series\n",
    "2-)  DataFrames (df)"
   ]
  },
  {
   "cell_type": "markdown",
   "id": "d1077c23",
   "metadata": {},
   "source": [
    "df 'ler satır ve sütunlardan oluşur numeric, kategorik sütunlar olabilir\n",
    "series'lar ise tek bir sütundan oluşur.\n",
    "yani -----> Series bir sütun gibidir, DataFrame tüm tablodur.yani df: series + n(series) 'dan oluşur\n"
   ]
  },
  {
   "cell_type": "markdown",
   "id": "1ff31803",
   "metadata": {},
   "source": [
    "## Series"
   ]
  },
  {
   "cell_type": "markdown",
   "id": "d1367782",
   "metadata": {},
   "source": [
    "Herhangi bir türden veriyi tutan tek boyutlu bir arraydir.\n",
    "Bir series birden çok sütun içeremez\n",
    "pd.series() yapıp shift+tabtab ile alabileceği argümanlara vs. bakılabilir"
   ]
  },
  {
   "cell_type": "code",
   "execution_count": 8,
   "id": "ce914269",
   "metadata": {},
   "outputs": [
    {
     "data": {
      "text/plain": [
       "0    1\n",
       "1    7\n",
       "2    2\n",
       "dtype: int64"
      ]
     },
     "execution_count": 8,
     "metadata": {},
     "output_type": "execute_result"
    }
   ],
   "source": [
    "a = [1, 7, 2]\n",
    "b = pd.Series(a)                     #### S BÜYÜK HARF dikkat edelim.\n",
    "                  ####pd.Series(data = a) da yazabilirdik ama zaten ilk parametre data olduğundan yazmadık\n",
    "b\n"
   ]
  },
  {
   "cell_type": "markdown",
   "id": "b94155bf",
   "metadata": {},
   "source": [
    "Hatırlarsak numpy array'leri içerisine tek tip veri alıyordu biz birden fazla veri tipi koymaya çalışırsak arka planda kendisi en kapsayıcı veri tipi hangisiyse bütün verileri ona çeviriyordu.pd.Series'lerde durum ne peki ?"
   ]
  },
  {
   "cell_type": "code",
   "execution_count": 78,
   "id": "2cd5ffe3",
   "metadata": {},
   "outputs": [
    {
     "data": {
      "text/plain": [
       "0       1\n",
       "1       7\n",
       "2       a\n",
       "3    True\n",
       "4    None\n",
       "dtype: object"
      ]
     },
     "execution_count": 78,
     "metadata": {},
     "output_type": "execute_result"
    }
   ],
   "source": [
    "w= [1, 7, \"a\",True,None]\n",
    "k = pd.Series(w)                     \n",
    "k"
   ]
  },
  {
   "cell_type": "code",
   "execution_count": 100,
   "id": "1fc2f987",
   "metadata": {},
   "outputs": [
    {
     "data": {
      "text/plain": [
       "pandas.core.series.Series"
      ]
     },
     "execution_count": 100,
     "metadata": {},
     "output_type": "execute_result"
    }
   ],
   "source": [
    "type(k)"
   ]
  },
  {
   "cell_type": "code",
   "execution_count": 79,
   "id": "00f12659",
   "metadata": {},
   "outputs": [
    {
     "data": {
      "text/plain": [
       "bool"
      ]
     },
     "execution_count": 79,
     "metadata": {},
     "output_type": "execute_result"
    }
   ],
   "source": [
    "type(k[3])"
   ]
  },
  {
   "cell_type": "code",
   "execution_count": 80,
   "id": "888771c6",
   "metadata": {},
   "outputs": [
    {
     "data": {
      "text/plain": [
       "str"
      ]
     },
     "execution_count": 80,
     "metadata": {},
     "output_type": "execute_result"
    }
   ],
   "source": [
    "type(k[2])"
   ]
  },
  {
   "cell_type": "markdown",
   "id": "eb2dc766",
   "metadata": {},
   "source": [
    "demek ki birden fazla farklı tipteki verilerle ben bir pandas.series oluşturabiliyorum."
   ]
  },
  {
   "cell_type": "markdown",
   "id": "d4d9a989",
   "metadata": {},
   "source": [
    "## LABLES (ETİKET) -----> index"
   ]
  },
  {
   "cell_type": "markdown",
   "id": "5bed098d",
   "metadata": {},
   "source": [
    "Başka bir şey belirtilmemişse, değerler indeks numaralarıyla etiketlenir. "
   ]
  },
  {
   "cell_type": "code",
   "execution_count": 104,
   "id": "bd4643d2",
   "metadata": {},
   "outputs": [
    {
     "data": {
      "text/plain": [
       "0    1\n",
       "1    7\n",
       "2    2\n",
       "dtype: int64"
      ]
     },
     "execution_count": 104,
     "metadata": {},
     "output_type": "execute_result"
    }
   ],
   "source": [
    "a = [1, 7, 2]\n",
    "b = pd.Series(a)                        \n",
    "b"
   ]
  },
  {
   "cell_type": "markdown",
   "id": "2f6561f0",
   "metadata": {},
   "source": [
    "Etiketlemeye neden ihtiyaç var ? - belirli bir değere erişmek için "
   ]
  },
  {
   "cell_type": "code",
   "execution_count": 11,
   "id": "a0a398e0",
   "metadata": {},
   "outputs": [
    {
     "data": {
      "text/plain": [
       "1"
      ]
     },
     "execution_count": 11,
     "metadata": {},
     "output_type": "execute_result"
    }
   ],
   "source": [
    "b[0]"
   ]
  },
  {
   "cell_type": "code",
   "execution_count": 17,
   "id": "a75ee5aa",
   "metadata": {},
   "outputs": [],
   "source": [
    " # b[-1]  # olmuyor dikkat edersek key error alıyorum  en aşağıda"
   ]
  },
  {
   "cell_type": "code",
   "execution_count": 15,
   "id": "e6b33d70",
   "metadata": {},
   "outputs": [
    {
     "data": {
      "text/plain": [
       "2"
      ]
     },
     "execution_count": 15,
     "metadata": {},
     "output_type": "execute_result"
    }
   ],
   "source": [
    "b[2]"
   ]
  },
  {
   "cell_type": "code",
   "execution_count": 102,
   "id": "d69074de",
   "metadata": {},
   "outputs": [
    {
     "data": {
      "text/plain": [
       "day1        python\n",
       "day2    istatistik\n",
       "day3          html\n",
       "dtype: object"
      ]
     },
     "execution_count": 102,
     "metadata": {},
     "output_type": "execute_result"
    }
   ],
   "source": [
    "dersler = {\"day1\": \"python\", \n",
    "           \"day2\":\"istatistik\", \n",
    "           \"day3\": \"html\"}\n",
    "dic_Series= pd.Series(dersler)\n",
    "dic_Series"
   ]
  },
  {
   "cell_type": "markdown",
   "id": "6fb56b21",
   "metadata": {},
   "source": [
    "Sözlüğün keyleri labellar haline gelir. yani 0----- day1:python gibi bir şey yok burada"
   ]
  },
  {
   "cell_type": "markdown",
   "id": "dc7834e5",
   "metadata": {},
   "source": [
    "## peki ben başka bir şeyle etiketleme yapabilir miyim ?"
   ]
  },
  {
   "cell_type": "code",
   "execution_count": 18,
   "id": "aff76066",
   "metadata": {},
   "outputs": [
    {
     "data": {
      "text/plain": [
       "x    1\n",
       "y    7\n",
       "z    2\n",
       "dtype: int64"
      ]
     },
     "execution_count": 18,
     "metadata": {},
     "output_type": "execute_result"
    }
   ],
   "source": [
    "a = [1, 7, 2]\n",
    "b = pd.Series(a,index = [\"x\",\"y\",\"z\"])                     \n",
    "b"
   ]
  },
  {
   "cell_type": "markdown",
   "id": "f43d9a91",
   "metadata": {},
   "source": [
    "başka bir şeyle etiketleme yaparken:\n",
    "1-) array-like bir object olacak\n",
    "2-) etiketleme yapacağımız data ile array-like objectimiz aynı uzunlukta olacak burada dictlerde farklı bir durum var"
   ]
  },
  {
   "cell_type": "markdown",
   "id": "96b13ca7",
   "metadata": {},
   "source": [
    "aynı label'ı kullandığımda hata verir mi ?"
   ]
  },
  {
   "cell_type": "code",
   "execution_count": 19,
   "id": "af562ab0",
   "metadata": {},
   "outputs": [
    {
     "data": {
      "text/plain": [
       "x    1\n",
       "y    7\n",
       "x    2\n",
       "dtype: int64"
      ]
     },
     "execution_count": 19,
     "metadata": {},
     "output_type": "execute_result"
    }
   ],
   "source": [
    "a = [1, 7, 2]\n",
    "b = pd.Series(a,index = [\"x\",\"y\",\"x\"])                     \n",
    "b"
   ]
  },
  {
   "cell_type": "code",
   "execution_count": 20,
   "id": "adcfb142",
   "metadata": {},
   "outputs": [
    {
     "data": {
      "text/plain": [
       "x      1\n",
       "y      7\n",
       "NaN    2\n",
       "dtype: int64"
      ]
     },
     "execution_count": 20,
     "metadata": {},
     "output_type": "execute_result"
    }
   ],
   "source": [
    "a = [1, 7, 2]\n",
    "b = pd.Series(a,index = [\"x\",\"y\",None])                     \n",
    "b"
   ]
  },
  {
   "cell_type": "markdown",
   "id": "8a1ecc59",
   "metadata": {},
   "source": [
    "baştaki örneğimizi tekrar kopyalayalım"
   ]
  },
  {
   "cell_type": "code",
   "execution_count": 33,
   "id": "adf3aea0",
   "metadata": {},
   "outputs": [
    {
     "data": {
      "text/plain": [
       "x    1\n",
       "y    7\n",
       "z    2\n",
       "dtype: int64"
      ]
     },
     "execution_count": 33,
     "metadata": {},
     "output_type": "execute_result"
    }
   ],
   "source": [
    "e = [1, 7, 2]\n",
    "f = pd.Series(a,index = [\"x\",\"y\",\"z\"])                     \n",
    "f"
   ]
  },
  {
   "cell_type": "markdown",
   "id": "4962e2b5",
   "metadata": {},
   "source": [
    "ben label'ı değiştirdim peki şu artık çalışır mı ?"
   ]
  },
  {
   "cell_type": "code",
   "execution_count": 36,
   "id": "26d44d3e",
   "metadata": {},
   "outputs": [
    {
     "data": {
      "text/plain": [
       "2"
      ]
     },
     "execution_count": 36,
     "metadata": {},
     "output_type": "execute_result"
    }
   ],
   "source": [
    "f[2]           "
   ]
  },
  {
   "cell_type": "code",
   "execution_count": 38,
   "id": "f7b87b60",
   "metadata": {},
   "outputs": [
    {
     "data": {
      "text/plain": [
       "2"
      ]
     },
     "execution_count": 38,
     "metadata": {},
     "output_type": "execute_result"
    }
   ],
   "source": [
    "f[\"z\"]                   # ikisi de çalışıyor"
   ]
  },
  {
   "cell_type": "markdown",
   "id": "17651f52",
   "metadata": {},
   "source": [
    "dictlerde farklı bir durum var demiştik. dictlerde elimdeki data ile series oluşturcaksam eğer datadaki bazı şeyleri istemiyorsam almayabiliyorum hani demiştik ya etiketleme yapacağımız data ile etiketleme objemiz aynı uzunlukta olacak diye işte dictlerde böyle bir zorunluluk yok "
   ]
  },
  {
   "cell_type": "code",
   "execution_count": 103,
   "id": "5be3c21e",
   "metadata": {},
   "outputs": [
    {
     "data": {
      "text/plain": [
       "day1        python\n",
       "day2    istatistik\n",
       "dtype: object"
      ]
     },
     "execution_count": 103,
     "metadata": {},
     "output_type": "execute_result"
    }
   ],
   "source": [
    "dersler = {\"day1\": \"python\", \"day2\":\"istatistik\", \"day3\": \"html\"}\n",
    "dic_Series= pd.Series(dersler,index=[\"day1\",\"day2\"])\n",
    "dic_Series\n"
   ]
  },
  {
   "cell_type": "markdown",
   "id": "670af12a",
   "metadata": {},
   "source": [
    "bir numpy dizisi ile de ben pandas series oluşturabilirim."
   ]
  },
  {
   "cell_type": "code",
   "execution_count": 105,
   "id": "8d5847d2",
   "metadata": {},
   "outputs": [],
   "source": [
    "import numpy as np"
   ]
  },
  {
   "cell_type": "code",
   "execution_count": 106,
   "id": "b5defd9f",
   "metadata": {},
   "outputs": [
    {
     "data": {
      "text/plain": [
       "array([28, 42, 22])"
      ]
     },
     "execution_count": 106,
     "metadata": {},
     "output_type": "execute_result"
    }
   ],
   "source": [
    "n = np.random.randint(1,50,3)\n",
    "n"
   ]
  },
  {
   "cell_type": "code",
   "execution_count": 107,
   "id": "f998b3e8",
   "metadata": {},
   "outputs": [
    {
     "data": {
      "text/plain": [
       "0    28\n",
       "1    42\n",
       "2    22\n",
       "dtype: int32"
      ]
     },
     "execution_count": 107,
     "metadata": {},
     "output_type": "execute_result"
    }
   ],
   "source": [
    "pnd_Serie = pd.Series(data=n)\n",
    "pnd_Serie"
   ]
  },
  {
   "cell_type": "code",
   "execution_count": 108,
   "id": "6c516174",
   "metadata": {},
   "outputs": [
    {
     "data": {
      "text/plain": [
       "num1    28\n",
       "num2    42\n",
       "num3    22\n",
       "dtype: int32"
      ]
     },
     "execution_count": 108,
     "metadata": {},
     "output_type": "execute_result"
    }
   ],
   "source": [
    "pnd_Serie = pd.Series(data=n,index=[\"num1\",\"num2\",\"num3\"])\n",
    "pnd_Serie"
   ]
  },
  {
   "cell_type": "markdown",
   "id": "392c96b2",
   "metadata": {},
   "source": [
    "## Series'de aritmetik işlemler"
   ]
  },
  {
   "cell_type": "code",
   "execution_count": 113,
   "id": "67de40c4",
   "metadata": {},
   "outputs": [],
   "source": [
    "ilk_puanlar = [3,1,1,0]\n",
    "takimlar = [\"madrid\",\"arsenal\",\"chelsea\",\"liverpool\"]\n"
   ]
  },
  {
   "cell_type": "code",
   "execution_count": 114,
   "id": "686541e7",
   "metadata": {},
   "outputs": [
    {
     "data": {
      "text/plain": [
       "madrid       3\n",
       "arsenal      1\n",
       "chelsea      1\n",
       "liverpool    0\n",
       "dtype: int64"
      ]
     },
     "execution_count": 114,
     "metadata": {},
     "output_type": "execute_result"
    }
   ],
   "source": [
    "ilkmaclar = pd.Series(data=ilk_puanlar,index=takimlar)\n",
    "ilkmaclar"
   ]
  },
  {
   "cell_type": "code",
   "execution_count": 115,
   "id": "9f53c65c",
   "metadata": {},
   "outputs": [],
   "source": [
    "ikinci_puanlar = [1,1,1,1]"
   ]
  },
  {
   "cell_type": "code",
   "execution_count": 116,
   "id": "6280fda9",
   "metadata": {},
   "outputs": [
    {
     "data": {
      "text/plain": [
       "madrid       1\n",
       "arsenal      1\n",
       "chelsea      1\n",
       "liverpool    1\n",
       "dtype: int64"
      ]
     },
     "execution_count": 116,
     "metadata": {},
     "output_type": "execute_result"
    }
   ],
   "source": [
    "ikincimaclar = pd.Series(data=ikinci_puanlar,index=takimlar)\n",
    "ikincimaclar"
   ]
  },
  {
   "cell_type": "markdown",
   "id": "201d95d1",
   "metadata": {},
   "source": [
    "ben ilk maçlar ve ikinci maçlar sonucunda oluşan toplam puan durumunu nasıl görebilirim ?"
   ]
  },
  {
   "cell_type": "code",
   "execution_count": 117,
   "id": "b8a4a62c",
   "metadata": {},
   "outputs": [
    {
     "data": {
      "text/plain": [
       "pandas.core.series.Series"
      ]
     },
     "execution_count": 117,
     "metadata": {},
     "output_type": "execute_result"
    }
   ],
   "source": [
    "type(ilkmaclar)"
   ]
  },
  {
   "cell_type": "code",
   "execution_count": 118,
   "id": "0cae88a8",
   "metadata": {},
   "outputs": [
    {
     "data": {
      "text/plain": [
       "pandas.core.series.Series"
      ]
     },
     "execution_count": 118,
     "metadata": {},
     "output_type": "execute_result"
    }
   ],
   "source": [
    "type(ikincimaclar)"
   ]
  },
  {
   "cell_type": "code",
   "execution_count": 119,
   "id": "918f671a",
   "metadata": {},
   "outputs": [
    {
     "data": {
      "text/plain": [
       "madrid       4\n",
       "arsenal      2\n",
       "chelsea      2\n",
       "liverpool    1\n",
       "dtype: int64"
      ]
     },
     "execution_count": 119,
     "metadata": {},
     "output_type": "execute_result"
    }
   ],
   "source": [
    "ilkmaclar + ikincimaclar"
   ]
  },
  {
   "cell_type": "markdown",
   "id": "eb86b223",
   "metadata": {},
   "source": [
    "demek ki iki series'ı kolaylıkla toplayabiliyoruz ve diğer *,/,- işlemlerini de yapabiliyoruz."
   ]
  },
  {
   "cell_type": "code",
   "execution_count": 122,
   "id": "67a7331c",
   "metadata": {},
   "outputs": [
    {
     "data": {
      "text/plain": [
       "madrid       2\n",
       "arsenal      0\n",
       "chelsea      0\n",
       "liverpool   -1\n",
       "dtype: int64"
      ]
     },
     "execution_count": 122,
     "metadata": {},
     "output_type": "execute_result"
    }
   ],
   "source": [
    "ilkmaclar - ikincimaclar"
   ]
  },
  {
   "cell_type": "markdown",
   "id": "47813989",
   "metadata": {},
   "source": [
    "peki diyelim ki ben puanları hesaplıycam ama series'im tam olarak uymuyor yine de toplama yapabilir miyim ?"
   ]
  },
  {
   "cell_type": "code",
   "execution_count": 128,
   "id": "053adb26",
   "metadata": {},
   "outputs": [],
   "source": [
    "ilk_puanlar = [3,1,1,0]\n",
    "takimlar = [\"madrid\",\"arsenal\",\"chelsea\",\"liverpool\"]\n",
    "takimlar2 =[\"madrid\",\"arsenal\",\"barcelona\",\"milan\"]\n",
    "ikinci_puanlar = [1,1,3,3]"
   ]
  },
  {
   "cell_type": "code",
   "execution_count": 129,
   "id": "b4d8fe24",
   "metadata": {},
   "outputs": [
    {
     "data": {
      "text/plain": [
       "madrid       3\n",
       "arsenal      1\n",
       "chelsea      1\n",
       "liverpool    0\n",
       "dtype: int64"
      ]
     },
     "execution_count": 129,
     "metadata": {},
     "output_type": "execute_result"
    }
   ],
   "source": [
    "mac1 = pd.Series(data=ilk_puanlar,index=takimlar)\n",
    "mac1"
   ]
  },
  {
   "cell_type": "code",
   "execution_count": 130,
   "id": "c5e950df",
   "metadata": {},
   "outputs": [
    {
     "data": {
      "text/plain": [
       "madrid       1\n",
       "arsenal      1\n",
       "barcelona    3\n",
       "milan        3\n",
       "dtype: int64"
      ]
     },
     "execution_count": 130,
     "metadata": {},
     "output_type": "execute_result"
    }
   ],
   "source": [
    "mac2 = pd.Series(data=ikinci_puanlar,index=takimlar2)\n",
    "mac2"
   ]
  },
  {
   "cell_type": "markdown",
   "id": "57683200",
   "metadata": {},
   "source": [
    "mac1+mac2 yaparsak hata alır mıyız ?"
   ]
  },
  {
   "cell_type": "code",
   "execution_count": 131,
   "id": "5fd4b0fe",
   "metadata": {},
   "outputs": [
    {
     "data": {
      "text/plain": [
       "arsenal      2.0\n",
       "barcelona    NaN\n",
       "chelsea      NaN\n",
       "liverpool    NaN\n",
       "madrid       4.0\n",
       "milan        NaN\n",
       "dtype: float64"
      ]
     },
     "execution_count": 131,
     "metadata": {},
     "output_type": "execute_result"
    }
   ],
   "source": [
    "mac1 + mac2"
   ]
  },
  {
   "cell_type": "markdown",
   "id": "17e2144b",
   "metadata": {},
   "source": [
    "Görüldüğü üzere böyle bir durumda toplama işlemi ya da diğer matematiksel işlemler iki farklı serideki kesişen labellar var ise onlara uygulanıyor kesişmeyen değerler için de NaN(Not a Number)veriyor,böyle bir değer yok diyor yani."
   ]
  },
  {
   "cell_type": "markdown",
   "id": "15f06bbf",
   "metadata": {},
   "source": [
    "## DataFrames"
   ]
  },
  {
   "cell_type": "markdown",
   "id": "08b85d9f",
   "metadata": {},
   "source": [
    "Pandas DataFrame, 2 boyutlu bir array veya satırlar ve sütunlar içeren bir tablo gibi 2 boyutlu bir veri yapısıdır."
   ]
  },
  {
   "cell_type": "markdown",
   "id": "78f5c826",
   "metadata": {},
   "source": [
    "kendi df'imizi  oluşturabiliriz hazır olan df'leri de kullanabiliriz kendimiz nasıl df oluştururuz örnek:"
   ]
  },
  {
   "cell_type": "markdown",
   "id": "692883f8",
   "metadata": {},
   "source": [
    "pd.DataFrame() ile kendi df'mimizi oluşturalım"
   ]
  },
  {
   "cell_type": "code",
   "execution_count": 84,
   "id": "6a1bb2ed",
   "metadata": {},
   "outputs": [
    {
     "data": {
      "text/html": [
       "<div>\n",
       "<style scoped>\n",
       "    .dataframe tbody tr th:only-of-type {\n",
       "        vertical-align: middle;\n",
       "    }\n",
       "\n",
       "    .dataframe tbody tr th {\n",
       "        vertical-align: top;\n",
       "    }\n",
       "\n",
       "    .dataframe thead th {\n",
       "        text-align: right;\n",
       "    }\n",
       "</style>\n",
       "<table border=\"1\" class=\"dataframe\">\n",
       "  <thead>\n",
       "    <tr style=\"text-align: right;\">\n",
       "      <th></th>\n",
       "      <th>mesafe(m)</th>\n",
       "      <th>süre</th>\n",
       "    </tr>\n",
       "  </thead>\n",
       "  <tbody>\n",
       "    <tr>\n",
       "      <th>0</th>\n",
       "      <td>100</td>\n",
       "      <td>15</td>\n",
       "    </tr>\n",
       "    <tr>\n",
       "      <th>1</th>\n",
       "      <td>200</td>\n",
       "      <td>32</td>\n",
       "    </tr>\n",
       "    <tr>\n",
       "      <th>2</th>\n",
       "      <td>400</td>\n",
       "      <td>58</td>\n",
       "    </tr>\n",
       "  </tbody>\n",
       "</table>\n",
       "</div>"
      ],
      "text/plain": [
       "   mesafe(m)  süre\n",
       "0        100    15\n",
       "1        200    32\n",
       "2        400    58"
      ]
     },
     "execution_count": 84,
     "metadata": {},
     "output_type": "execute_result"
    }
   ],
   "source": [
    "data = {\n",
    "  \"mesafe(m)\": [100,200,400],\n",
    "  \"süre\": [15,32,58]\n",
    "}\n",
    "\n",
    "df = pd.DataFrame(data)                 \n",
    "df           \n"
   ]
  },
  {
   "cell_type": "markdown",
   "id": "57fdcbfa",
   "metadata": {},
   "source": [
    "peki ben sadece dict'le mi oluşturabilirim ? hayır : boyut önemli df oluşturmak için"
   ]
  },
  {
   "cell_type": "code",
   "execution_count": 83,
   "id": "97264036",
   "metadata": {},
   "outputs": [
    {
     "data": {
      "text/html": [
       "<div>\n",
       "<style scoped>\n",
       "    .dataframe tbody tr th:only-of-type {\n",
       "        vertical-align: middle;\n",
       "    }\n",
       "\n",
       "    .dataframe tbody tr th {\n",
       "        vertical-align: top;\n",
       "    }\n",
       "\n",
       "    .dataframe thead th {\n",
       "        text-align: right;\n",
       "    }\n",
       "</style>\n",
       "<table border=\"1\" class=\"dataframe\">\n",
       "  <thead>\n",
       "    <tr style=\"text-align: right;\">\n",
       "      <th></th>\n",
       "      <th>0</th>\n",
       "      <th>1</th>\n",
       "      <th>2</th>\n",
       "    </tr>\n",
       "  </thead>\n",
       "  <tbody>\n",
       "    <tr>\n",
       "      <th>0</th>\n",
       "      <td>1</td>\n",
       "      <td>2</td>\n",
       "      <td>3</td>\n",
       "    </tr>\n",
       "    <tr>\n",
       "      <th>1</th>\n",
       "      <td>4</td>\n",
       "      <td>5</td>\n",
       "      <td>6</td>\n",
       "    </tr>\n",
       "    <tr>\n",
       "      <th>2</th>\n",
       "      <td>7</td>\n",
       "      <td>8</td>\n",
       "      <td>9</td>\n",
       "    </tr>\n",
       "  </tbody>\n",
       "</table>\n",
       "</div>"
      ],
      "text/plain": [
       "   0  1  2\n",
       "0  1  2  3\n",
       "1  4  5  6\n",
       "2  7  8  9"
      ]
     },
     "execution_count": 83,
     "metadata": {},
     "output_type": "execute_result"
    }
   ],
   "source": [
    "data2 = [[1,2,3],[4,5,6],[7,8,9]]\n",
    "df2 = pd.DataFrame(data)\n",
    "df2"
   ]
  },
  {
   "cell_type": "markdown",
   "id": "e29ff473",
   "metadata": {},
   "source": [
    "ama şimdilik dictle oluşturmam daha mantıklı geldi bana."
   ]
  },
  {
   "cell_type": "markdown",
   "id": "d413986e",
   "metadata": {},
   "source": [
    "## istediğimiz satırı getirme"
   ]
  },
  {
   "cell_type": "markdown",
   "id": "fc7bd545",
   "metadata": {},
   "source": [
    "bunun için loc attribute'nu kullanacağız :        (locate)"
   ]
  },
  {
   "cell_type": "code",
   "execution_count": 132,
   "id": "5f2e6622",
   "metadata": {},
   "outputs": [
    {
     "data": {
      "text/html": [
       "<div>\n",
       "<style scoped>\n",
       "    .dataframe tbody tr th:only-of-type {\n",
       "        vertical-align: middle;\n",
       "    }\n",
       "\n",
       "    .dataframe tbody tr th {\n",
       "        vertical-align: top;\n",
       "    }\n",
       "\n",
       "    .dataframe thead th {\n",
       "        text-align: right;\n",
       "    }\n",
       "</style>\n",
       "<table border=\"1\" class=\"dataframe\">\n",
       "  <thead>\n",
       "    <tr style=\"text-align: right;\">\n",
       "      <th></th>\n",
       "      <th>mesafe(m)</th>\n",
       "      <th>süre</th>\n",
       "    </tr>\n",
       "  </thead>\n",
       "  <tbody>\n",
       "    <tr>\n",
       "      <th>0</th>\n",
       "      <td>100</td>\n",
       "      <td>15</td>\n",
       "    </tr>\n",
       "    <tr>\n",
       "      <th>1</th>\n",
       "      <td>200</td>\n",
       "      <td>32</td>\n",
       "    </tr>\n",
       "    <tr>\n",
       "      <th>2</th>\n",
       "      <td>400</td>\n",
       "      <td>58</td>\n",
       "    </tr>\n",
       "  </tbody>\n",
       "</table>\n",
       "</div>"
      ],
      "text/plain": [
       "   mesafe(m)  süre\n",
       "0        100    15\n",
       "1        200    32\n",
       "2        400    58"
      ]
     },
     "execution_count": 132,
     "metadata": {},
     "output_type": "execute_result"
    }
   ],
   "source": [
    "data = {\n",
    "  \"mesafe(m)\": [100,200,400],\n",
    "  \"süre\": [15,32,58]\n",
    "}\n",
    "\n",
    "df = pd.DataFrame(data)\n",
    "df"
   ]
  },
  {
   "cell_type": "code",
   "execution_count": 54,
   "id": "ebaac57c",
   "metadata": {},
   "outputs": [
    {
     "data": {
      "text/plain": [
       "mesafe(m)    200\n",
       "süre          32\n",
       "Name: 1, dtype: int64"
      ]
     },
     "execution_count": 54,
     "metadata": {},
     "output_type": "execute_result"
    }
   ],
   "source": [
    "df.loc[1]                 "
   ]
  },
  {
   "cell_type": "code",
   "execution_count": 55,
   "id": "df8ccb67",
   "metadata": {},
   "outputs": [
    {
     "data": {
      "text/plain": [
       "mesafe(m)    400\n",
       "süre          58\n",
       "Name: 2, dtype: int64"
      ]
     },
     "execution_count": 55,
     "metadata": {},
     "output_type": "execute_result"
    }
   ],
   "source": [
    "df.loc[2]                "
   ]
  },
  {
   "cell_type": "markdown",
   "id": "8a0b05e0",
   "metadata": {},
   "source": [
    "Not: Bu iki örnek bir Panda Serisi döndürür. peki bunu nasıl anlarım:"
   ]
  },
  {
   "cell_type": "code",
   "execution_count": 86,
   "id": "56b4b5e7",
   "metadata": {},
   "outputs": [],
   "source": [
    "a = df.loc[2] "
   ]
  },
  {
   "cell_type": "code",
   "execution_count": 57,
   "id": "f5a96b02",
   "metadata": {},
   "outputs": [
    {
     "data": {
      "text/plain": [
       "58"
      ]
     },
     "execution_count": 57,
     "metadata": {},
     "output_type": "execute_result"
    }
   ],
   "source": [
    "a[\"süre\"]"
   ]
  },
  {
   "cell_type": "code",
   "execution_count": 69,
   "id": "ea603d6c",
   "metadata": {},
   "outputs": [
    {
     "data": {
      "text/plain": [
       "pandas.core.series.Series"
      ]
     },
     "execution_count": 69,
     "metadata": {},
     "output_type": "execute_result"
    }
   ],
   "source": [
    "type(a)"
   ]
  },
  {
   "cell_type": "markdown",
   "id": "6bea1618",
   "metadata": {},
   "source": [
    "## peki ben sonucunda bir df olmasını istiyorsam ne yapmalıyım?"
   ]
  },
  {
   "cell_type": "code",
   "execution_count": 59,
   "id": "2a09d4c6",
   "metadata": {},
   "outputs": [
    {
     "data": {
      "text/html": [
       "<div>\n",
       "<style scoped>\n",
       "    .dataframe tbody tr th:only-of-type {\n",
       "        vertical-align: middle;\n",
       "    }\n",
       "\n",
       "    .dataframe tbody tr th {\n",
       "        vertical-align: top;\n",
       "    }\n",
       "\n",
       "    .dataframe thead th {\n",
       "        text-align: right;\n",
       "    }\n",
       "</style>\n",
       "<table border=\"1\" class=\"dataframe\">\n",
       "  <thead>\n",
       "    <tr style=\"text-align: right;\">\n",
       "      <th></th>\n",
       "      <th>mesafe(m)</th>\n",
       "      <th>süre</th>\n",
       "    </tr>\n",
       "  </thead>\n",
       "  <tbody>\n",
       "    <tr>\n",
       "      <th>0</th>\n",
       "      <td>100</td>\n",
       "      <td>15</td>\n",
       "    </tr>\n",
       "    <tr>\n",
       "      <th>1</th>\n",
       "      <td>200</td>\n",
       "      <td>32</td>\n",
       "    </tr>\n",
       "    <tr>\n",
       "      <th>2</th>\n",
       "      <td>400</td>\n",
       "      <td>58</td>\n",
       "    </tr>\n",
       "  </tbody>\n",
       "</table>\n",
       "</div>"
      ],
      "text/plain": [
       "   mesafe(m)  süre\n",
       "0        100    15\n",
       "1        200    32\n",
       "2        400    58"
      ]
     },
     "execution_count": 59,
     "metadata": {},
     "output_type": "execute_result"
    }
   ],
   "source": [
    "df"
   ]
  },
  {
   "cell_type": "code",
   "execution_count": 61,
   "id": "7f9f72b7",
   "metadata": {},
   "outputs": [
    {
     "data": {
      "text/html": [
       "<div>\n",
       "<style scoped>\n",
       "    .dataframe tbody tr th:only-of-type {\n",
       "        vertical-align: middle;\n",
       "    }\n",
       "\n",
       "    .dataframe tbody tr th {\n",
       "        vertical-align: top;\n",
       "    }\n",
       "\n",
       "    .dataframe thead th {\n",
       "        text-align: right;\n",
       "    }\n",
       "</style>\n",
       "<table border=\"1\" class=\"dataframe\">\n",
       "  <thead>\n",
       "    <tr style=\"text-align: right;\">\n",
       "      <th></th>\n",
       "      <th>mesafe(m)</th>\n",
       "      <th>süre</th>\n",
       "    </tr>\n",
       "  </thead>\n",
       "  <tbody>\n",
       "    <tr>\n",
       "      <th>1</th>\n",
       "      <td>200</td>\n",
       "      <td>32</td>\n",
       "    </tr>\n",
       "  </tbody>\n",
       "</table>\n",
       "</div>"
      ],
      "text/plain": [
       "   mesafe(m)  süre\n",
       "1        200    32"
      ]
     },
     "execution_count": 61,
     "metadata": {},
     "output_type": "execute_result"
    }
   ],
   "source": [
    "df.loc[[1]]         #  bir köşeli parantez daha kullanmalıyım"
   ]
  },
  {
   "cell_type": "code",
   "execution_count": 73,
   "id": "2192de8a",
   "metadata": {},
   "outputs": [
    {
     "data": {
      "text/html": [
       "<div>\n",
       "<style scoped>\n",
       "    .dataframe tbody tr th:only-of-type {\n",
       "        vertical-align: middle;\n",
       "    }\n",
       "\n",
       "    .dataframe tbody tr th {\n",
       "        vertical-align: top;\n",
       "    }\n",
       "\n",
       "    .dataframe thead th {\n",
       "        text-align: right;\n",
       "    }\n",
       "</style>\n",
       "<table border=\"1\" class=\"dataframe\">\n",
       "  <thead>\n",
       "    <tr style=\"text-align: right;\">\n",
       "      <th></th>\n",
       "      <th>mesafe(m)</th>\n",
       "      <th>süre</th>\n",
       "    </tr>\n",
       "  </thead>\n",
       "  <tbody>\n",
       "    <tr>\n",
       "      <th>0</th>\n",
       "      <td>100</td>\n",
       "      <td>15</td>\n",
       "    </tr>\n",
       "    <tr>\n",
       "      <th>2</th>\n",
       "      <td>400</td>\n",
       "      <td>58</td>\n",
       "    </tr>\n",
       "  </tbody>\n",
       "</table>\n",
       "</div>"
      ],
      "text/plain": [
       "   mesafe(m)  süre\n",
       "0        100    15\n",
       "2        400    58"
      ]
     },
     "execution_count": 73,
     "metadata": {},
     "output_type": "execute_result"
    }
   ],
   "source": [
    "b = df.loc[[0,2]]  \n",
    "b"
   ]
  },
  {
   "cell_type": "code",
   "execution_count": 74,
   "id": "cbf750f0",
   "metadata": {},
   "outputs": [
    {
     "data": {
      "text/plain": [
       "pandas.core.frame.DataFrame"
      ]
     },
     "execution_count": 74,
     "metadata": {},
     "output_type": "execute_result"
    }
   ],
   "source": [
    "type(b)"
   ]
  },
  {
   "cell_type": "markdown",
   "id": "d91452a4",
   "metadata": {},
   "source": [
    "tıpkı series de olduğu gibi df 'de de indexlerimizi isimlendirebiliriz."
   ]
  },
  {
   "cell_type": "code",
   "execution_count": 89,
   "id": "b6598315",
   "metadata": {},
   "outputs": [
    {
     "data": {
      "text/html": [
       "<div>\n",
       "<style scoped>\n",
       "    .dataframe tbody tr th:only-of-type {\n",
       "        vertical-align: middle;\n",
       "    }\n",
       "\n",
       "    .dataframe tbody tr th {\n",
       "        vertical-align: top;\n",
       "    }\n",
       "\n",
       "    .dataframe thead th {\n",
       "        text-align: right;\n",
       "    }\n",
       "</style>\n",
       "<table border=\"1\" class=\"dataframe\">\n",
       "  <thead>\n",
       "    <tr style=\"text-align: right;\">\n",
       "      <th></th>\n",
       "      <th>mesafe(m)</th>\n",
       "      <th>süre</th>\n",
       "    </tr>\n",
       "  </thead>\n",
       "  <tbody>\n",
       "    <tr>\n",
       "      <th>x</th>\n",
       "      <td>100</td>\n",
       "      <td>15</td>\n",
       "    </tr>\n",
       "    <tr>\n",
       "      <th>y</th>\n",
       "      <td>200</td>\n",
       "      <td>32</td>\n",
       "    </tr>\n",
       "    <tr>\n",
       "      <th>z</th>\n",
       "      <td>400</td>\n",
       "      <td>58</td>\n",
       "    </tr>\n",
       "  </tbody>\n",
       "</table>\n",
       "</div>"
      ],
      "text/plain": [
       "   mesafe(m)  süre\n",
       "x        100    15\n",
       "y        200    32\n",
       "z        400    58"
      ]
     },
     "execution_count": 89,
     "metadata": {},
     "output_type": "execute_result"
    }
   ],
   "source": [
    "data = {\n",
    "  \"mesafe(m)\": [100,200,400],\n",
    "  \"süre\": [15,32,58]\n",
    "}\n",
    "\n",
    "df = pd.DataFrame(data,[\"x\",\"y\",\"z\"])\n",
    "df"
   ]
  },
  {
   "cell_type": "code",
   "execution_count": 90,
   "id": "bbf6fa0b",
   "metadata": {},
   "outputs": [
    {
     "data": {
      "text/plain": [
       "mesafe(m)    100\n",
       "süre          15\n",
       "Name: x, dtype: int64"
      ]
     },
     "execution_count": 90,
     "metadata": {},
     "output_type": "execute_result"
    }
   ],
   "source": [
    "df.loc[\"x\"]"
   ]
  },
  {
   "cell_type": "markdown",
   "id": "4f49de9e",
   "metadata": {},
   "source": [
    "Pandas, csv, excel vb. gibi çeşitli dosya biçimlerindeki verileri import etmeye,bir df'e yüklemeye izin verir."
   ]
  },
  {
   "cell_type": "markdown",
   "id": "3a7a1d88",
   "metadata": {},
   "source": [
    "## df'i yüklerken   df'in pwd'de olduğuna dikkat edelim"
   ]
  },
  {
   "cell_type": "code",
   "execution_count": 64,
   "id": "50ba9c55",
   "metadata": {},
   "outputs": [
    {
     "data": {
      "text/html": [
       "<div>\n",
       "<style scoped>\n",
       "    .dataframe tbody tr th:only-of-type {\n",
       "        vertical-align: middle;\n",
       "    }\n",
       "\n",
       "    .dataframe tbody tr th {\n",
       "        vertical-align: top;\n",
       "    }\n",
       "\n",
       "    .dataframe thead th {\n",
       "        text-align: right;\n",
       "    }\n",
       "</style>\n",
       "<table border=\"1\" class=\"dataframe\">\n",
       "  <thead>\n",
       "    <tr style=\"text-align: right;\">\n",
       "      <th></th>\n",
       "      <th>Rank</th>\n",
       "      <th>Name</th>\n",
       "      <th>Platform</th>\n",
       "      <th>Year</th>\n",
       "      <th>Genre</th>\n",
       "      <th>Publisher</th>\n",
       "      <th>NA_Sales</th>\n",
       "      <th>EU_Sales</th>\n",
       "      <th>JP_Sales</th>\n",
       "      <th>Other_Sales</th>\n",
       "      <th>Global_Sales</th>\n",
       "    </tr>\n",
       "  </thead>\n",
       "  <tbody>\n",
       "    <tr>\n",
       "      <th>0</th>\n",
       "      <td>1</td>\n",
       "      <td>Wii Sports</td>\n",
       "      <td>Wii</td>\n",
       "      <td>2006.0</td>\n",
       "      <td>Sports</td>\n",
       "      <td>Nintendo</td>\n",
       "      <td>41.49</td>\n",
       "      <td>29.02</td>\n",
       "      <td>3.77</td>\n",
       "      <td>8.46</td>\n",
       "      <td>82.74</td>\n",
       "    </tr>\n",
       "    <tr>\n",
       "      <th>1</th>\n",
       "      <td>2</td>\n",
       "      <td>Super Mario Bros.</td>\n",
       "      <td>NES</td>\n",
       "      <td>1985.0</td>\n",
       "      <td>Platform</td>\n",
       "      <td>Nintendo</td>\n",
       "      <td>29.08</td>\n",
       "      <td>3.58</td>\n",
       "      <td>6.81</td>\n",
       "      <td>0.77</td>\n",
       "      <td>40.24</td>\n",
       "    </tr>\n",
       "    <tr>\n",
       "      <th>2</th>\n",
       "      <td>3</td>\n",
       "      <td>Mario Kart Wii</td>\n",
       "      <td>Wii</td>\n",
       "      <td>2008.0</td>\n",
       "      <td>Racing</td>\n",
       "      <td>Nintendo</td>\n",
       "      <td>15.85</td>\n",
       "      <td>12.88</td>\n",
       "      <td>3.79</td>\n",
       "      <td>3.31</td>\n",
       "      <td>35.82</td>\n",
       "    </tr>\n",
       "    <tr>\n",
       "      <th>3</th>\n",
       "      <td>4</td>\n",
       "      <td>Wii Sports Resort</td>\n",
       "      <td>Wii</td>\n",
       "      <td>2009.0</td>\n",
       "      <td>Sports</td>\n",
       "      <td>Nintendo</td>\n",
       "      <td>15.75</td>\n",
       "      <td>11.01</td>\n",
       "      <td>3.28</td>\n",
       "      <td>2.96</td>\n",
       "      <td>33.00</td>\n",
       "    </tr>\n",
       "    <tr>\n",
       "      <th>4</th>\n",
       "      <td>5</td>\n",
       "      <td>Pokemon Red/Pokemon Blue</td>\n",
       "      <td>GB</td>\n",
       "      <td>1996.0</td>\n",
       "      <td>Role-Playing</td>\n",
       "      <td>Nintendo</td>\n",
       "      <td>11.27</td>\n",
       "      <td>8.89</td>\n",
       "      <td>10.22</td>\n",
       "      <td>1.00</td>\n",
       "      <td>31.37</td>\n",
       "    </tr>\n",
       "    <tr>\n",
       "      <th>...</th>\n",
       "      <td>...</td>\n",
       "      <td>...</td>\n",
       "      <td>...</td>\n",
       "      <td>...</td>\n",
       "      <td>...</td>\n",
       "      <td>...</td>\n",
       "      <td>...</td>\n",
       "      <td>...</td>\n",
       "      <td>...</td>\n",
       "      <td>...</td>\n",
       "      <td>...</td>\n",
       "    </tr>\n",
       "    <tr>\n",
       "      <th>16593</th>\n",
       "      <td>16596</td>\n",
       "      <td>Woody Woodpecker in Crazy Castle 5</td>\n",
       "      <td>GBA</td>\n",
       "      <td>2002.0</td>\n",
       "      <td>Platform</td>\n",
       "      <td>Kemco</td>\n",
       "      <td>0.01</td>\n",
       "      <td>0.00</td>\n",
       "      <td>0.00</td>\n",
       "      <td>0.00</td>\n",
       "      <td>0.01</td>\n",
       "    </tr>\n",
       "    <tr>\n",
       "      <th>16594</th>\n",
       "      <td>16597</td>\n",
       "      <td>Men in Black II: Alien Escape</td>\n",
       "      <td>GC</td>\n",
       "      <td>2003.0</td>\n",
       "      <td>Shooter</td>\n",
       "      <td>Infogrames</td>\n",
       "      <td>0.01</td>\n",
       "      <td>0.00</td>\n",
       "      <td>0.00</td>\n",
       "      <td>0.00</td>\n",
       "      <td>0.01</td>\n",
       "    </tr>\n",
       "    <tr>\n",
       "      <th>16595</th>\n",
       "      <td>16598</td>\n",
       "      <td>SCORE International Baja 1000: The Official Game</td>\n",
       "      <td>PS2</td>\n",
       "      <td>2008.0</td>\n",
       "      <td>Racing</td>\n",
       "      <td>Activision</td>\n",
       "      <td>0.00</td>\n",
       "      <td>0.00</td>\n",
       "      <td>0.00</td>\n",
       "      <td>0.00</td>\n",
       "      <td>0.01</td>\n",
       "    </tr>\n",
       "    <tr>\n",
       "      <th>16596</th>\n",
       "      <td>16599</td>\n",
       "      <td>Know How 2</td>\n",
       "      <td>DS</td>\n",
       "      <td>2010.0</td>\n",
       "      <td>Puzzle</td>\n",
       "      <td>7G//AMES</td>\n",
       "      <td>0.00</td>\n",
       "      <td>0.01</td>\n",
       "      <td>0.00</td>\n",
       "      <td>0.00</td>\n",
       "      <td>0.01</td>\n",
       "    </tr>\n",
       "    <tr>\n",
       "      <th>16597</th>\n",
       "      <td>16600</td>\n",
       "      <td>Spirits &amp; Spells</td>\n",
       "      <td>GBA</td>\n",
       "      <td>2003.0</td>\n",
       "      <td>Platform</td>\n",
       "      <td>Wanadoo</td>\n",
       "      <td>0.01</td>\n",
       "      <td>0.00</td>\n",
       "      <td>0.00</td>\n",
       "      <td>0.00</td>\n",
       "      <td>0.01</td>\n",
       "    </tr>\n",
       "  </tbody>\n",
       "</table>\n",
       "<p>16598 rows × 11 columns</p>\n",
       "</div>"
      ],
      "text/plain": [
       "        Rank                                              Name Platform  \\\n",
       "0          1                                        Wii Sports      Wii   \n",
       "1          2                                 Super Mario Bros.      NES   \n",
       "2          3                                    Mario Kart Wii      Wii   \n",
       "3          4                                 Wii Sports Resort      Wii   \n",
       "4          5                          Pokemon Red/Pokemon Blue       GB   \n",
       "...      ...                                               ...      ...   \n",
       "16593  16596                Woody Woodpecker in Crazy Castle 5      GBA   \n",
       "16594  16597                     Men in Black II: Alien Escape       GC   \n",
       "16595  16598  SCORE International Baja 1000: The Official Game      PS2   \n",
       "16596  16599                                        Know How 2       DS   \n",
       "16597  16600                                  Spirits & Spells      GBA   \n",
       "\n",
       "         Year         Genre   Publisher  NA_Sales  EU_Sales  JP_Sales  \\\n",
       "0      2006.0        Sports    Nintendo     41.49     29.02      3.77   \n",
       "1      1985.0      Platform    Nintendo     29.08      3.58      6.81   \n",
       "2      2008.0        Racing    Nintendo     15.85     12.88      3.79   \n",
       "3      2009.0        Sports    Nintendo     15.75     11.01      3.28   \n",
       "4      1996.0  Role-Playing    Nintendo     11.27      8.89     10.22   \n",
       "...       ...           ...         ...       ...       ...       ...   \n",
       "16593  2002.0      Platform       Kemco      0.01      0.00      0.00   \n",
       "16594  2003.0       Shooter  Infogrames      0.01      0.00      0.00   \n",
       "16595  2008.0        Racing  Activision      0.00      0.00      0.00   \n",
       "16596  2010.0        Puzzle    7G//AMES      0.00      0.01      0.00   \n",
       "16597  2003.0      Platform     Wanadoo      0.01      0.00      0.00   \n",
       "\n",
       "       Other_Sales  Global_Sales  \n",
       "0             8.46         82.74  \n",
       "1             0.77         40.24  \n",
       "2             3.31         35.82  \n",
       "3             2.96         33.00  \n",
       "4             1.00         31.37  \n",
       "...            ...           ...  \n",
       "16593         0.00          0.01  \n",
       "16594         0.00          0.01  \n",
       "16595         0.00          0.01  \n",
       "16596         0.00          0.01  \n",
       "16597         0.00          0.01  \n",
       "\n",
       "[16598 rows x 11 columns]"
      ]
     },
     "execution_count": 64,
     "metadata": {},
     "output_type": "execute_result"
    }
   ],
   "source": [
    "pd.read_csv(\"vgsalesGlobale.csv\")"
   ]
  },
  {
   "cell_type": "code",
   "execution_count": 65,
   "id": "e947d5ef",
   "metadata": {},
   "outputs": [],
   "source": [
    "df = pd.read_csv(\"vgsalesGlobale.csv\",index_col=\"Name\")\n",
    "df"
   ]
  },
  {
   "cell_type": "code",
   "execution_count": 66,
   "id": "bf94cb81",
   "metadata": {},
   "outputs": [
    {
     "data": {
      "text/html": [
       "<div>\n",
       "<style scoped>\n",
       "    .dataframe tbody tr th:only-of-type {\n",
       "        vertical-align: middle;\n",
       "    }\n",
       "\n",
       "    .dataframe tbody tr th {\n",
       "        vertical-align: top;\n",
       "    }\n",
       "\n",
       "    .dataframe thead th {\n",
       "        text-align: right;\n",
       "    }\n",
       "</style>\n",
       "<table border=\"1\" class=\"dataframe\">\n",
       "  <thead>\n",
       "    <tr style=\"text-align: right;\">\n",
       "      <th></th>\n",
       "      <th>Rank</th>\n",
       "      <th>Platform</th>\n",
       "      <th>Year</th>\n",
       "      <th>Genre</th>\n",
       "      <th>Publisher</th>\n",
       "      <th>NA_Sales</th>\n",
       "      <th>EU_Sales</th>\n",
       "      <th>JP_Sales</th>\n",
       "      <th>Other_Sales</th>\n",
       "      <th>Global_Sales</th>\n",
       "    </tr>\n",
       "    <tr>\n",
       "      <th>Name</th>\n",
       "      <th></th>\n",
       "      <th></th>\n",
       "      <th></th>\n",
       "      <th></th>\n",
       "      <th></th>\n",
       "      <th></th>\n",
       "      <th></th>\n",
       "      <th></th>\n",
       "      <th></th>\n",
       "      <th></th>\n",
       "    </tr>\n",
       "  </thead>\n",
       "  <tbody>\n",
       "    <tr>\n",
       "      <th>Wii Sports</th>\n",
       "      <td>1</td>\n",
       "      <td>Wii</td>\n",
       "      <td>2006.0</td>\n",
       "      <td>Sports</td>\n",
       "      <td>Nintendo</td>\n",
       "      <td>41.49</td>\n",
       "      <td>29.02</td>\n",
       "      <td>3.77</td>\n",
       "      <td>8.46</td>\n",
       "      <td>82.74</td>\n",
       "    </tr>\n",
       "    <tr>\n",
       "      <th>Super Mario Bros.</th>\n",
       "      <td>2</td>\n",
       "      <td>NES</td>\n",
       "      <td>1985.0</td>\n",
       "      <td>Platform</td>\n",
       "      <td>Nintendo</td>\n",
       "      <td>29.08</td>\n",
       "      <td>3.58</td>\n",
       "      <td>6.81</td>\n",
       "      <td>0.77</td>\n",
       "      <td>40.24</td>\n",
       "    </tr>\n",
       "    <tr>\n",
       "      <th>Mario Kart Wii</th>\n",
       "      <td>3</td>\n",
       "      <td>Wii</td>\n",
       "      <td>2008.0</td>\n",
       "      <td>Racing</td>\n",
       "      <td>Nintendo</td>\n",
       "      <td>15.85</td>\n",
       "      <td>12.88</td>\n",
       "      <td>3.79</td>\n",
       "      <td>3.31</td>\n",
       "      <td>35.82</td>\n",
       "    </tr>\n",
       "    <tr>\n",
       "      <th>Wii Sports Resort</th>\n",
       "      <td>4</td>\n",
       "      <td>Wii</td>\n",
       "      <td>2009.0</td>\n",
       "      <td>Sports</td>\n",
       "      <td>Nintendo</td>\n",
       "      <td>15.75</td>\n",
       "      <td>11.01</td>\n",
       "      <td>3.28</td>\n",
       "      <td>2.96</td>\n",
       "      <td>33.00</td>\n",
       "    </tr>\n",
       "    <tr>\n",
       "      <th>Pokemon Red/Pokemon Blue</th>\n",
       "      <td>5</td>\n",
       "      <td>GB</td>\n",
       "      <td>1996.0</td>\n",
       "      <td>Role-Playing</td>\n",
       "      <td>Nintendo</td>\n",
       "      <td>11.27</td>\n",
       "      <td>8.89</td>\n",
       "      <td>10.22</td>\n",
       "      <td>1.00</td>\n",
       "      <td>31.37</td>\n",
       "    </tr>\n",
       "  </tbody>\n",
       "</table>\n",
       "</div>"
      ],
      "text/plain": [
       "                          Rank Platform    Year         Genre Publisher  \\\n",
       "Name                                                                      \n",
       "Wii Sports                   1      Wii  2006.0        Sports  Nintendo   \n",
       "Super Mario Bros.            2      NES  1985.0      Platform  Nintendo   \n",
       "Mario Kart Wii               3      Wii  2008.0        Racing  Nintendo   \n",
       "Wii Sports Resort            4      Wii  2009.0        Sports  Nintendo   \n",
       "Pokemon Red/Pokemon Blue     5       GB  1996.0  Role-Playing  Nintendo   \n",
       "\n",
       "                          NA_Sales  EU_Sales  JP_Sales  Other_Sales  \\\n",
       "Name                                                                  \n",
       "Wii Sports                   41.49     29.02      3.77         8.46   \n",
       "Super Mario Bros.            29.08      3.58      6.81         0.77   \n",
       "Mario Kart Wii               15.85     12.88      3.79         3.31   \n",
       "Wii Sports Resort            15.75     11.01      3.28         2.96   \n",
       "Pokemon Red/Pokemon Blue     11.27      8.89     10.22         1.00   \n",
       "\n",
       "                          Global_Sales  \n",
       "Name                                    \n",
       "Wii Sports                       82.74  \n",
       "Super Mario Bros.                40.24  \n",
       "Mario Kart Wii                   35.82  \n",
       "Wii Sports Resort                33.00  \n",
       "Pokemon Red/Pokemon Blue         31.37  "
      ]
     },
     "execution_count": 66,
     "metadata": {},
     "output_type": "execute_result"
    }
   ],
   "source": [
    "df.head()"
   ]
  },
  {
   "cell_type": "markdown",
   "id": "893abf72",
   "metadata": {},
   "source": [
    "nameler df'imizin index'i haline geldi dikkat edersek"
   ]
  },
  {
   "cell_type": "code",
   "execution_count": 7,
   "id": "b70527a0",
   "metadata": {},
   "outputs": [
    {
     "data": {
      "text/html": [
       "<div>\n",
       "<style scoped>\n",
       "    .dataframe tbody tr th:only-of-type {\n",
       "        vertical-align: middle;\n",
       "    }\n",
       "\n",
       "    .dataframe tbody tr th {\n",
       "        vertical-align: top;\n",
       "    }\n",
       "\n",
       "    .dataframe thead th {\n",
       "        text-align: right;\n",
       "    }\n",
       "</style>\n",
       "<table border=\"1\" class=\"dataframe\">\n",
       "  <thead>\n",
       "    <tr style=\"text-align: right;\">\n",
       "      <th></th>\n",
       "      <th>Rank</th>\n",
       "      <th>Platform</th>\n",
       "      <th>Year</th>\n",
       "      <th>Genre</th>\n",
       "      <th>Publisher</th>\n",
       "      <th>NA_Sales</th>\n",
       "      <th>EU_Sales</th>\n",
       "      <th>JP_Sales</th>\n",
       "      <th>Other_Sales</th>\n",
       "      <th>Global_Sales</th>\n",
       "    </tr>\n",
       "    <tr>\n",
       "      <th>Name</th>\n",
       "      <th></th>\n",
       "      <th></th>\n",
       "      <th></th>\n",
       "      <th></th>\n",
       "      <th></th>\n",
       "      <th></th>\n",
       "      <th></th>\n",
       "      <th></th>\n",
       "      <th></th>\n",
       "      <th></th>\n",
       "    </tr>\n",
       "  </thead>\n",
       "  <tbody>\n",
       "    <tr>\n",
       "      <th>Woody Woodpecker in Crazy Castle 5</th>\n",
       "      <td>16596</td>\n",
       "      <td>GBA</td>\n",
       "      <td>2002.0</td>\n",
       "      <td>Platform</td>\n",
       "      <td>Kemco</td>\n",
       "      <td>0.01</td>\n",
       "      <td>0.00</td>\n",
       "      <td>0.0</td>\n",
       "      <td>0.0</td>\n",
       "      <td>0.01</td>\n",
       "    </tr>\n",
       "    <tr>\n",
       "      <th>Men in Black II: Alien Escape</th>\n",
       "      <td>16597</td>\n",
       "      <td>GC</td>\n",
       "      <td>2003.0</td>\n",
       "      <td>Shooter</td>\n",
       "      <td>Infogrames</td>\n",
       "      <td>0.01</td>\n",
       "      <td>0.00</td>\n",
       "      <td>0.0</td>\n",
       "      <td>0.0</td>\n",
       "      <td>0.01</td>\n",
       "    </tr>\n",
       "    <tr>\n",
       "      <th>SCORE International Baja 1000: The Official Game</th>\n",
       "      <td>16598</td>\n",
       "      <td>PS2</td>\n",
       "      <td>2008.0</td>\n",
       "      <td>Racing</td>\n",
       "      <td>Activision</td>\n",
       "      <td>0.00</td>\n",
       "      <td>0.00</td>\n",
       "      <td>0.0</td>\n",
       "      <td>0.0</td>\n",
       "      <td>0.01</td>\n",
       "    </tr>\n",
       "    <tr>\n",
       "      <th>Know How 2</th>\n",
       "      <td>16599</td>\n",
       "      <td>DS</td>\n",
       "      <td>2010.0</td>\n",
       "      <td>Puzzle</td>\n",
       "      <td>7G//AMES</td>\n",
       "      <td>0.00</td>\n",
       "      <td>0.01</td>\n",
       "      <td>0.0</td>\n",
       "      <td>0.0</td>\n",
       "      <td>0.01</td>\n",
       "    </tr>\n",
       "    <tr>\n",
       "      <th>Spirits &amp; Spells</th>\n",
       "      <td>16600</td>\n",
       "      <td>GBA</td>\n",
       "      <td>2003.0</td>\n",
       "      <td>Platform</td>\n",
       "      <td>Wanadoo</td>\n",
       "      <td>0.01</td>\n",
       "      <td>0.00</td>\n",
       "      <td>0.0</td>\n",
       "      <td>0.0</td>\n",
       "      <td>0.01</td>\n",
       "    </tr>\n",
       "  </tbody>\n",
       "</table>\n",
       "</div>"
      ],
      "text/plain": [
       "                                                   Rank Platform    Year  \\\n",
       "Name                                                                       \n",
       "Woody Woodpecker in Crazy Castle 5                16596      GBA  2002.0   \n",
       "Men in Black II: Alien Escape                     16597       GC  2003.0   \n",
       "SCORE International Baja 1000: The Official Game  16598      PS2  2008.0   \n",
       "Know How 2                                        16599       DS  2010.0   \n",
       "Spirits & Spells                                  16600      GBA  2003.0   \n",
       "\n",
       "                                                     Genre   Publisher  \\\n",
       "Name                                                                     \n",
       "Woody Woodpecker in Crazy Castle 5                Platform       Kemco   \n",
       "Men in Black II: Alien Escape                      Shooter  Infogrames   \n",
       "SCORE International Baja 1000: The Official Game    Racing  Activision   \n",
       "Know How 2                                          Puzzle    7G//AMES   \n",
       "Spirits & Spells                                  Platform     Wanadoo   \n",
       "\n",
       "                                                  NA_Sales  EU_Sales  \\\n",
       "Name                                                                   \n",
       "Woody Woodpecker in Crazy Castle 5                    0.01      0.00   \n",
       "Men in Black II: Alien Escape                         0.01      0.00   \n",
       "SCORE International Baja 1000: The Official Game      0.00      0.00   \n",
       "Know How 2                                            0.00      0.01   \n",
       "Spirits & Spells                                      0.01      0.00   \n",
       "\n",
       "                                                  JP_Sales  Other_Sales  \\\n",
       "Name                                                                      \n",
       "Woody Woodpecker in Crazy Castle 5                     0.0          0.0   \n",
       "Men in Black II: Alien Escape                          0.0          0.0   \n",
       "SCORE International Baja 1000: The Official Game       0.0          0.0   \n",
       "Know How 2                                             0.0          0.0   \n",
       "Spirits & Spells                                       0.0          0.0   \n",
       "\n",
       "                                                  Global_Sales  \n",
       "Name                                                            \n",
       "Woody Woodpecker in Crazy Castle 5                        0.01  \n",
       "Men in Black II: Alien Escape                             0.01  \n",
       "SCORE International Baja 1000: The Official Game          0.01  \n",
       "Know How 2                                                0.01  \n",
       "Spirits & Spells                                          0.01  "
      ]
     },
     "execution_count": 7,
     "metadata": {},
     "output_type": "execute_result"
    }
   ],
   "source": [
    "df.tail()"
   ]
  },
  {
   "cell_type": "code",
   "execution_count": 9,
   "id": "3ea2b7e9",
   "metadata": {},
   "outputs": [
    {
     "data": {
      "text/plain": [
       "(16598, 10)"
      ]
     },
     "execution_count": 9,
     "metadata": {},
     "output_type": "execute_result"
    }
   ],
   "source": [
    "df.shape"
   ]
  },
  {
   "cell_type": "code",
   "execution_count": 10,
   "id": "46f992f7",
   "metadata": {},
   "outputs": [
    {
     "data": {
      "text/plain": [
       "Rank              int64\n",
       "Platform         object\n",
       "Year            float64\n",
       "Genre            object\n",
       "Publisher        object\n",
       "NA_Sales        float64\n",
       "EU_Sales        float64\n",
       "JP_Sales        float64\n",
       "Other_Sales     float64\n",
       "Global_Sales    float64\n",
       "dtype: object"
      ]
     },
     "execution_count": 10,
     "metadata": {},
     "output_type": "execute_result"
    }
   ],
   "source": [
    "df.dtypes"
   ]
  },
  {
   "cell_type": "markdown",
   "id": "7700483f",
   "metadata": {},
   "source": [
    "peki df'deki herhangi bir satırı ben nasıl alabilirim ?  mesela 300.satırı görmek istiyorum"
   ]
  },
  {
   "cell_type": "code",
   "execution_count": 11,
   "id": "ce7f60ae",
   "metadata": {},
   "outputs": [
    {
     "data": {
      "text/plain": [
       "Rank                           300\n",
       "Platform                       PS3\n",
       "Year                        2008.0\n",
       "Genre                 Role-Playing\n",
       "Publisher       Bethesda Softworks\n",
       "NA_Sales                      2.15\n",
       "EU_Sales                       1.2\n",
       "JP_Sales                      0.07\n",
       "Other_Sales                   0.59\n",
       "Global_Sales                  4.01\n",
       "Name: Fallout 3, dtype: object"
      ]
     },
     "execution_count": 11,
     "metadata": {},
     "output_type": "execute_result"
    }
   ],
   "source": [
    "df.iloc[299]      # indexler 0'dan başladığı için"
   ]
  },
  {
   "cell_type": "markdown",
   "id": "4027a9b8",
   "metadata": {},
   "source": [
    "peki ben bir şey arıyorum ama hangi satırda olduğunu bilmiyorum"
   ]
  },
  {
   "cell_type": "code",
   "execution_count": 17,
   "id": "24aa757b",
   "metadata": {},
   "outputs": [
    {
     "data": {
      "text/plain": [
       "5"
      ]
     },
     "execution_count": 17,
     "metadata": {},
     "output_type": "execute_result"
    }
   ],
   "source": [
    "a = [10,20,30,40,85,95,10]\n",
    "a.index(95)"
   ]
  },
  {
   "cell_type": "code",
   "execution_count": 18,
   "id": "1dd17cee",
   "metadata": {},
   "outputs": [
    {
     "data": {
      "text/plain": [
       "Rank                       5\n",
       "Platform                  GB\n",
       "Year                  1996.0\n",
       "Genre           Role-Playing\n",
       "Publisher           Nintendo\n",
       "NA_Sales               11.27\n",
       "EU_Sales                8.89\n",
       "JP_Sales               10.22\n",
       "Other_Sales              1.0\n",
       "Global_Sales           31.37\n",
       "Name: Pokemon Red/Pokemon Blue, dtype: object"
      ]
     },
     "execution_count": 18,
     "metadata": {},
     "output_type": "execute_result"
    }
   ],
   "source": [
    "df.loc[\"Pokemon Red/Pokemon Blue\"]          \n",
    "                        # burada şuna da dikkat edelim oyunlar rank sütununa göre sıralanıyor"
   ]
  },
  {
   "cell_type": "markdown",
   "id": "edf96775",
   "metadata": {},
   "source": [
    "peki ben başka bir sütuna göre sıralamak istesem oyunları mesela year sütununa göre"
   ]
  },
  {
   "cell_type": "code",
   "execution_count": 20,
   "id": "cfddb6cd",
   "metadata": {},
   "outputs": [
    {
     "data": {
      "text/html": [
       "<div>\n",
       "<style scoped>\n",
       "    .dataframe tbody tr th:only-of-type {\n",
       "        vertical-align: middle;\n",
       "    }\n",
       "\n",
       "    .dataframe tbody tr th {\n",
       "        vertical-align: top;\n",
       "    }\n",
       "\n",
       "    .dataframe thead th {\n",
       "        text-align: right;\n",
       "    }\n",
       "</style>\n",
       "<table border=\"1\" class=\"dataframe\">\n",
       "  <thead>\n",
       "    <tr style=\"text-align: right;\">\n",
       "      <th></th>\n",
       "      <th>Rank</th>\n",
       "      <th>Platform</th>\n",
       "      <th>Year</th>\n",
       "      <th>Genre</th>\n",
       "      <th>Publisher</th>\n",
       "      <th>NA_Sales</th>\n",
       "      <th>EU_Sales</th>\n",
       "      <th>JP_Sales</th>\n",
       "      <th>Other_Sales</th>\n",
       "      <th>Global_Sales</th>\n",
       "    </tr>\n",
       "    <tr>\n",
       "      <th>Name</th>\n",
       "      <th></th>\n",
       "      <th></th>\n",
       "      <th></th>\n",
       "      <th></th>\n",
       "      <th></th>\n",
       "      <th></th>\n",
       "      <th></th>\n",
       "      <th></th>\n",
       "      <th></th>\n",
       "      <th></th>\n",
       "    </tr>\n",
       "  </thead>\n",
       "  <tbody>\n",
       "    <tr>\n",
       "      <th>Checkers</th>\n",
       "      <td>6898</td>\n",
       "      <td>2600</td>\n",
       "      <td>1980.0</td>\n",
       "      <td>Misc</td>\n",
       "      <td>Atari</td>\n",
       "      <td>0.22</td>\n",
       "      <td>0.01</td>\n",
       "      <td>0.0</td>\n",
       "      <td>0.00</td>\n",
       "      <td>0.24</td>\n",
       "    </tr>\n",
       "    <tr>\n",
       "      <th>Boxing</th>\n",
       "      <td>2671</td>\n",
       "      <td>2600</td>\n",
       "      <td>1980.0</td>\n",
       "      <td>Fighting</td>\n",
       "      <td>Activision</td>\n",
       "      <td>0.72</td>\n",
       "      <td>0.04</td>\n",
       "      <td>0.0</td>\n",
       "      <td>0.01</td>\n",
       "      <td>0.77</td>\n",
       "    </tr>\n",
       "    <tr>\n",
       "      <th>Freeway</th>\n",
       "      <td>5368</td>\n",
       "      <td>2600</td>\n",
       "      <td>1980.0</td>\n",
       "      <td>Action</td>\n",
       "      <td>Activision</td>\n",
       "      <td>0.32</td>\n",
       "      <td>0.02</td>\n",
       "      <td>0.0</td>\n",
       "      <td>0.00</td>\n",
       "      <td>0.34</td>\n",
       "    </tr>\n",
       "    <tr>\n",
       "      <th>Defender</th>\n",
       "      <td>1971</td>\n",
       "      <td>2600</td>\n",
       "      <td>1980.0</td>\n",
       "      <td>Misc</td>\n",
       "      <td>Atari</td>\n",
       "      <td>0.99</td>\n",
       "      <td>0.05</td>\n",
       "      <td>0.0</td>\n",
       "      <td>0.01</td>\n",
       "      <td>1.05</td>\n",
       "    </tr>\n",
       "    <tr>\n",
       "      <th>Kaboom!</th>\n",
       "      <td>1768</td>\n",
       "      <td>2600</td>\n",
       "      <td>1980.0</td>\n",
       "      <td>Misc</td>\n",
       "      <td>Activision</td>\n",
       "      <td>1.07</td>\n",
       "      <td>0.07</td>\n",
       "      <td>0.0</td>\n",
       "      <td>0.01</td>\n",
       "      <td>1.15</td>\n",
       "    </tr>\n",
       "  </tbody>\n",
       "</table>\n",
       "</div>"
      ],
      "text/plain": [
       "          Rank Platform    Year     Genre   Publisher  NA_Sales  EU_Sales  \\\n",
       "Name                                                                        \n",
       "Checkers  6898     2600  1980.0      Misc       Atari      0.22      0.01   \n",
       "Boxing    2671     2600  1980.0  Fighting  Activision      0.72      0.04   \n",
       "Freeway   5368     2600  1980.0    Action  Activision      0.32      0.02   \n",
       "Defender  1971     2600  1980.0      Misc       Atari      0.99      0.05   \n",
       "Kaboom!   1768     2600  1980.0      Misc  Activision      1.07      0.07   \n",
       "\n",
       "          JP_Sales  Other_Sales  Global_Sales  \n",
       "Name                                           \n",
       "Checkers       0.0         0.00          0.24  \n",
       "Boxing         0.0         0.01          0.77  \n",
       "Freeway        0.0         0.00          0.34  \n",
       "Defender       0.0         0.01          1.05  \n",
       "Kaboom!        0.0         0.01          1.15  "
      ]
     },
     "execution_count": 20,
     "metadata": {},
     "output_type": "execute_result"
    }
   ],
   "source": [
    "df.sort_values(\"Year\").head()"
   ]
  },
  {
   "cell_type": "code",
   "execution_count": 21,
   "id": "53dfc7e8",
   "metadata": {},
   "outputs": [
    {
     "data": {
      "text/html": [
       "<div>\n",
       "<style scoped>\n",
       "    .dataframe tbody tr th:only-of-type {\n",
       "        vertical-align: middle;\n",
       "    }\n",
       "\n",
       "    .dataframe tbody tr th {\n",
       "        vertical-align: top;\n",
       "    }\n",
       "\n",
       "    .dataframe thead th {\n",
       "        text-align: right;\n",
       "    }\n",
       "</style>\n",
       "<table border=\"1\" class=\"dataframe\">\n",
       "  <thead>\n",
       "    <tr style=\"text-align: right;\">\n",
       "      <th></th>\n",
       "      <th>Rank</th>\n",
       "      <th>Platform</th>\n",
       "      <th>Year</th>\n",
       "      <th>Genre</th>\n",
       "      <th>Publisher</th>\n",
       "      <th>NA_Sales</th>\n",
       "      <th>EU_Sales</th>\n",
       "      <th>JP_Sales</th>\n",
       "      <th>Other_Sales</th>\n",
       "      <th>Global_Sales</th>\n",
       "    </tr>\n",
       "    <tr>\n",
       "      <th>Name</th>\n",
       "      <th></th>\n",
       "      <th></th>\n",
       "      <th></th>\n",
       "      <th></th>\n",
       "      <th></th>\n",
       "      <th></th>\n",
       "      <th></th>\n",
       "      <th></th>\n",
       "      <th></th>\n",
       "      <th></th>\n",
       "    </tr>\n",
       "  </thead>\n",
       "  <tbody>\n",
       "    <tr>\n",
       "      <th>Imagine: Makeup Artist</th>\n",
       "      <td>5959</td>\n",
       "      <td>DS</td>\n",
       "      <td>2020.0</td>\n",
       "      <td>Simulation</td>\n",
       "      <td>Ubisoft</td>\n",
       "      <td>0.27</td>\n",
       "      <td>0.0</td>\n",
       "      <td>0.00</td>\n",
       "      <td>0.02</td>\n",
       "      <td>0.29</td>\n",
       "    </tr>\n",
       "    <tr>\n",
       "      <th>Phantasy Star Online 2 Episode 4: Deluxe Package</th>\n",
       "      <td>14393</td>\n",
       "      <td>PS4</td>\n",
       "      <td>2017.0</td>\n",
       "      <td>Role-Playing</td>\n",
       "      <td>Sega</td>\n",
       "      <td>0.00</td>\n",
       "      <td>0.0</td>\n",
       "      <td>0.03</td>\n",
       "      <td>0.00</td>\n",
       "      <td>0.03</td>\n",
       "    </tr>\n",
       "    <tr>\n",
       "      <th>Phantasy Star Online 2 Episode 4: Deluxe Package</th>\n",
       "      <td>16244</td>\n",
       "      <td>PSV</td>\n",
       "      <td>2017.0</td>\n",
       "      <td>Role-Playing</td>\n",
       "      <td>Sega</td>\n",
       "      <td>0.00</td>\n",
       "      <td>0.0</td>\n",
       "      <td>0.01</td>\n",
       "      <td>0.00</td>\n",
       "      <td>0.01</td>\n",
       "    </tr>\n",
       "    <tr>\n",
       "      <th>Brothers Conflict: Precious Baby</th>\n",
       "      <td>16441</td>\n",
       "      <td>PSV</td>\n",
       "      <td>2017.0</td>\n",
       "      <td>Action</td>\n",
       "      <td>Idea Factory</td>\n",
       "      <td>0.00</td>\n",
       "      <td>0.0</td>\n",
       "      <td>0.01</td>\n",
       "      <td>0.00</td>\n",
       "      <td>0.01</td>\n",
       "    </tr>\n",
       "    <tr>\n",
       "      <th>Shin Megami Tensei IV: Final</th>\n",
       "      <td>8295</td>\n",
       "      <td>3DS</td>\n",
       "      <td>2016.0</td>\n",
       "      <td>Role-Playing</td>\n",
       "      <td>Deep Silver</td>\n",
       "      <td>0.03</td>\n",
       "      <td>0.0</td>\n",
       "      <td>0.14</td>\n",
       "      <td>0.00</td>\n",
       "      <td>0.17</td>\n",
       "    </tr>\n",
       "  </tbody>\n",
       "</table>\n",
       "</div>"
      ],
      "text/plain": [
       "                                                   Rank Platform    Year  \\\n",
       "Name                                                                       \n",
       "Imagine: Makeup Artist                             5959       DS  2020.0   \n",
       "Phantasy Star Online 2 Episode 4: Deluxe Package  14393      PS4  2017.0   \n",
       "Phantasy Star Online 2 Episode 4: Deluxe Package  16244      PSV  2017.0   \n",
       "Brothers Conflict: Precious Baby                  16441      PSV  2017.0   \n",
       "Shin Megami Tensei IV: Final                       8295      3DS  2016.0   \n",
       "\n",
       "                                                         Genre     Publisher  \\\n",
       "Name                                                                           \n",
       "Imagine: Makeup Artist                              Simulation       Ubisoft   \n",
       "Phantasy Star Online 2 Episode 4: Deluxe Package  Role-Playing          Sega   \n",
       "Phantasy Star Online 2 Episode 4: Deluxe Package  Role-Playing          Sega   \n",
       "Brothers Conflict: Precious Baby                        Action  Idea Factory   \n",
       "Shin Megami Tensei IV: Final                      Role-Playing   Deep Silver   \n",
       "\n",
       "                                                  NA_Sales  EU_Sales  \\\n",
       "Name                                                                   \n",
       "Imagine: Makeup Artist                                0.27       0.0   \n",
       "Phantasy Star Online 2 Episode 4: Deluxe Package      0.00       0.0   \n",
       "Phantasy Star Online 2 Episode 4: Deluxe Package      0.00       0.0   \n",
       "Brothers Conflict: Precious Baby                      0.00       0.0   \n",
       "Shin Megami Tensei IV: Final                          0.03       0.0   \n",
       "\n",
       "                                                  JP_Sales  Other_Sales  \\\n",
       "Name                                                                      \n",
       "Imagine: Makeup Artist                                0.00         0.02   \n",
       "Phantasy Star Online 2 Episode 4: Deluxe Package      0.03         0.00   \n",
       "Phantasy Star Online 2 Episode 4: Deluxe Package      0.01         0.00   \n",
       "Brothers Conflict: Precious Baby                      0.01         0.00   \n",
       "Shin Megami Tensei IV: Final                          0.14         0.00   \n",
       "\n",
       "                                                  Global_Sales  \n",
       "Name                                                            \n",
       "Imagine: Makeup Artist                                    0.29  \n",
       "Phantasy Star Online 2 Episode 4: Deluxe Package          0.03  \n",
       "Phantasy Star Online 2 Episode 4: Deluxe Package          0.01  \n",
       "Brothers Conflict: Precious Baby                          0.01  \n",
       "Shin Megami Tensei IV: Final                              0.17  "
      ]
     },
     "execution_count": 21,
     "metadata": {},
     "output_type": "execute_result"
    }
   ],
   "source": [
    "df.sort_values(\"Year\",ascending=False).head()   # en yeniden en eskiye doğru sıralamak istiyorum diyelim ki"
   ]
  },
  {
   "cell_type": "markdown",
   "id": "7eba6de9",
   "metadata": {},
   "source": [
    "## iki sütuna göre sıralama   [    ]  köşeli parantezLE oluyor"
   ]
  },
  {
   "cell_type": "code",
   "execution_count": 25,
   "id": "53d6acdf",
   "metadata": {},
   "outputs": [
    {
     "data": {
      "text/html": [
       "<div>\n",
       "<style scoped>\n",
       "    .dataframe tbody tr th:only-of-type {\n",
       "        vertical-align: middle;\n",
       "    }\n",
       "\n",
       "    .dataframe tbody tr th {\n",
       "        vertical-align: top;\n",
       "    }\n",
       "\n",
       "    .dataframe thead th {\n",
       "        text-align: right;\n",
       "    }\n",
       "</style>\n",
       "<table border=\"1\" class=\"dataframe\">\n",
       "  <thead>\n",
       "    <tr style=\"text-align: right;\">\n",
       "      <th></th>\n",
       "      <th>Rank</th>\n",
       "      <th>Platform</th>\n",
       "      <th>Year</th>\n",
       "      <th>Genre</th>\n",
       "      <th>Publisher</th>\n",
       "      <th>NA_Sales</th>\n",
       "      <th>EU_Sales</th>\n",
       "      <th>JP_Sales</th>\n",
       "      <th>Other_Sales</th>\n",
       "      <th>Global_Sales</th>\n",
       "    </tr>\n",
       "    <tr>\n",
       "      <th>Name</th>\n",
       "      <th></th>\n",
       "      <th></th>\n",
       "      <th></th>\n",
       "      <th></th>\n",
       "      <th></th>\n",
       "      <th></th>\n",
       "      <th></th>\n",
       "      <th></th>\n",
       "      <th></th>\n",
       "      <th></th>\n",
       "    </tr>\n",
       "  </thead>\n",
       "  <tbody>\n",
       "    <tr>\n",
       "      <th>Freeway</th>\n",
       "      <td>5368</td>\n",
       "      <td>2600</td>\n",
       "      <td>1980.0</td>\n",
       "      <td>Action</td>\n",
       "      <td>Activision</td>\n",
       "      <td>0.32</td>\n",
       "      <td>0.02</td>\n",
       "      <td>0.0</td>\n",
       "      <td>0.00</td>\n",
       "      <td>0.34</td>\n",
       "    </tr>\n",
       "    <tr>\n",
       "      <th>Boxing</th>\n",
       "      <td>2671</td>\n",
       "      <td>2600</td>\n",
       "      <td>1980.0</td>\n",
       "      <td>Fighting</td>\n",
       "      <td>Activision</td>\n",
       "      <td>0.72</td>\n",
       "      <td>0.04</td>\n",
       "      <td>0.0</td>\n",
       "      <td>0.01</td>\n",
       "      <td>0.77</td>\n",
       "    </tr>\n",
       "    <tr>\n",
       "      <th>Kaboom!</th>\n",
       "      <td>1768</td>\n",
       "      <td>2600</td>\n",
       "      <td>1980.0</td>\n",
       "      <td>Misc</td>\n",
       "      <td>Activision</td>\n",
       "      <td>1.07</td>\n",
       "      <td>0.07</td>\n",
       "      <td>0.0</td>\n",
       "      <td>0.01</td>\n",
       "      <td>1.15</td>\n",
       "    </tr>\n",
       "    <tr>\n",
       "      <th>Defender</th>\n",
       "      <td>1971</td>\n",
       "      <td>2600</td>\n",
       "      <td>1980.0</td>\n",
       "      <td>Misc</td>\n",
       "      <td>Atari</td>\n",
       "      <td>0.99</td>\n",
       "      <td>0.05</td>\n",
       "      <td>0.0</td>\n",
       "      <td>0.01</td>\n",
       "      <td>1.05</td>\n",
       "    </tr>\n",
       "    <tr>\n",
       "      <th>Bridge</th>\n",
       "      <td>6319</td>\n",
       "      <td>2600</td>\n",
       "      <td>1980.0</td>\n",
       "      <td>Misc</td>\n",
       "      <td>Activision</td>\n",
       "      <td>0.25</td>\n",
       "      <td>0.02</td>\n",
       "      <td>0.0</td>\n",
       "      <td>0.00</td>\n",
       "      <td>0.27</td>\n",
       "    </tr>\n",
       "  </tbody>\n",
       "</table>\n",
       "</div>"
      ],
      "text/plain": [
       "          Rank Platform    Year     Genre   Publisher  NA_Sales  EU_Sales  \\\n",
       "Name                                                                        \n",
       "Freeway   5368     2600  1980.0    Action  Activision      0.32      0.02   \n",
       "Boxing    2671     2600  1980.0  Fighting  Activision      0.72      0.04   \n",
       "Kaboom!   1768     2600  1980.0      Misc  Activision      1.07      0.07   \n",
       "Defender  1971     2600  1980.0      Misc       Atari      0.99      0.05   \n",
       "Bridge    6319     2600  1980.0      Misc  Activision      0.25      0.02   \n",
       "\n",
       "          JP_Sales  Other_Sales  Global_Sales  \n",
       "Name                                           \n",
       "Freeway        0.0         0.00          0.34  \n",
       "Boxing         0.0         0.01          0.77  \n",
       "Kaboom!        0.0         0.01          1.15  \n",
       "Defender       0.0         0.01          1.05  \n",
       "Bridge         0.0         0.00          0.27  "
      ]
     },
     "execution_count": 25,
     "metadata": {},
     "output_type": "execute_result"
    }
   ],
   "source": [
    "df.sort_values([\"Year\",\"Genre\"]).head()"
   ]
  },
  {
   "cell_type": "markdown",
   "id": "5a4467b6",
   "metadata": {},
   "source": [
    "burada önce yıl sonra türe göre bir sıralama yapmış olduk"
   ]
  },
  {
   "cell_type": "code",
   "execution_count": null,
   "id": "0e23c4f4",
   "metadata": {},
   "outputs": [],
   "source": []
  },
  {
   "cell_type": "code",
   "execution_count": null,
   "id": "c06235f5",
   "metadata": {},
   "outputs": [],
   "source": []
  },
  {
   "cell_type": "code",
   "execution_count": null,
   "id": "17a5e2b7",
   "metadata": {},
   "outputs": [],
   "source": []
  },
  {
   "cell_type": "code",
   "execution_count": null,
   "id": "0d7d81f4",
   "metadata": {},
   "outputs": [],
   "source": []
  }
 ],
 "metadata": {
  "kernelspec": {
   "display_name": "Python 3 (ipykernel)",
   "language": "python",
   "name": "python3"
  },
  "language_info": {
   "codemirror_mode": {
    "name": "ipython",
    "version": 3
   },
   "file_extension": ".py",
   "mimetype": "text/x-python",
   "name": "python",
   "nbconvert_exporter": "python",
   "pygments_lexer": "ipython3",
   "version": "3.9.7"
  },
  "toc": {
   "base_numbering": 1,
   "nav_menu": {},
   "number_sections": true,
   "sideBar": true,
   "skip_h1_title": false,
   "title_cell": "Table of Contents",
   "title_sidebar": "Contents",
   "toc_cell": false,
   "toc_position": {},
   "toc_section_display": true,
   "toc_window_display": false
  },
  "varInspector": {
   "cols": {
    "lenName": 16,
    "lenType": 16,
    "lenVar": 40
   },
   "kernels_config": {
    "python": {
     "delete_cmd_postfix": "",
     "delete_cmd_prefix": "del ",
     "library": "var_list.py",
     "varRefreshCmd": "print(var_dic_list())"
    },
    "r": {
     "delete_cmd_postfix": ") ",
     "delete_cmd_prefix": "rm(",
     "library": "var_list.r",
     "varRefreshCmd": "cat(var_dic_list()) "
    }
   },
   "types_to_exclude": [
    "module",
    "function",
    "builtin_function_or_method",
    "instance",
    "_Feature"
   ],
   "window_display": false
  }
 },
 "nbformat": 4,
 "nbformat_minor": 5
}
