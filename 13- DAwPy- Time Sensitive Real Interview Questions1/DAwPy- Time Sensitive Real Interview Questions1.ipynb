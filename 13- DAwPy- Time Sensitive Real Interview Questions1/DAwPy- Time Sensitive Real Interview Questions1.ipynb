{
 "cells": [
  {
   "cell_type": "markdown",
   "id": "1f236462",
   "metadata": {},
   "source": [
    "<a id=\"toc\"></a>\n",
    "\n",
    "## <p style=\"background-color:#9d4f8c; font-family:newtimeroman; color:#FFF9ED; font-size:175%; text-align:center; border-radius:10px 10px;\">Time Sensitive Real Interview Questions-1</p>"
   ]
  },
  {
   "cell_type": "markdown",
   "id": "e5dfeb4e",
   "metadata": {},
   "source": [
    "**Use 'sales_082020.csv' and 'currency_rates_082020_EUR.csv' files**"
   ]
  },
  {
   "cell_type": "markdown",
   "id": "52735b36",
   "metadata": {},
   "source": [
    "### Import libraries"
   ]
  },
  {
   "cell_type": "code",
   "execution_count": 1,
   "id": "15b50fc3",
   "metadata": {},
   "outputs": [],
   "source": [
    "import numpy as np\n",
    "import pandas as pd\n",
    "import seaborn as sns"
   ]
  },
  {
   "cell_type": "code",
   "execution_count": 2,
   "id": "8c11865e",
   "metadata": {},
   "outputs": [],
   "source": [
    "sales_df = pd.read_csv('sales_082020.csv')"
   ]
  },
  {
   "cell_type": "code",
   "execution_count": 3,
   "id": "858fa5ea",
   "metadata": {},
   "outputs": [],
   "source": [
    "currency_df = pd.read_csv('currency_rates_082020_EUR.csv')"
   ]
  },
  {
   "cell_type": "code",
   "execution_count": 4,
   "id": "56a22c15",
   "metadata": {
    "scrolled": true
   },
   "outputs": [
    {
     "name": "stdout",
     "output_type": "stream",
     "text": [
      "<class 'pandas.core.frame.DataFrame'>\n",
      "RangeIndex: 237671 entries, 0 to 237670\n",
      "Data columns (total 10 columns):\n",
      " #   Column          Non-Null Count   Dtype  \n",
      "---  ------          --------------   -----  \n",
      " 0   buyer_id        237671 non-null  object \n",
      " 1   buyer_country   237671 non-null  object \n",
      " 2   seller_id       237671 non-null  object \n",
      " 3   seller_country  237671 non-null  object \n",
      " 4   product_code    237671 non-null  object \n",
      " 5   category        237655 non-null  object \n",
      " 6   brand           119330 non-null  object \n",
      " 7   currency        237671 non-null  object \n",
      " 8   price           237671 non-null  float64\n",
      " 9   date            237671 non-null  object \n",
      "dtypes: float64(1), object(9)\n",
      "memory usage: 18.1+ MB\n"
     ]
    }
   ],
   "source": [
    "sales_df.info()"
   ]
  },
  {
   "cell_type": "markdown",
   "id": "9de14845",
   "metadata": {},
   "source": [
    "### QUESTIONS & ANSWERS"
   ]
  },
  {
   "cell_type": "markdown",
   "id": "c264aa77",
   "metadata": {},
   "source": [
    "***1. How many rows in the sales dataset?(Just write the numbers in the format of 000.000)***"
   ]
  },
  {
   "cell_type": "code",
   "execution_count": 5,
   "id": "3c9f9c6c",
   "metadata": {},
   "outputs": [
    {
     "data": {
      "text/plain": [
       "237671"
      ]
     },
     "execution_count": 5,
     "metadata": {},
     "output_type": "execute_result"
    }
   ],
   "source": [
    "len(sales_df.index)"
   ]
  },
  {
   "cell_type": "markdown",
   "id": "8c316649",
   "metadata": {},
   "source": [
    "***2. How many columns in the sales dataset?(Just write the numbers)***"
   ]
  },
  {
   "cell_type": "code",
   "execution_count": 6,
   "id": "a0ff3b85",
   "metadata": {},
   "outputs": [
    {
     "data": {
      "text/plain": [
       "10"
      ]
     },
     "execution_count": 6,
     "metadata": {},
     "output_type": "execute_result"
    }
   ],
   "source": [
    "len(sales_df.columns)"
   ]
  },
  {
   "cell_type": "markdown",
   "id": "a3f87299",
   "metadata": {},
   "source": [
    "***3. What is the total number of sellers?(Just write the numbers in the format of 000.000)***"
   ]
  },
  {
   "cell_type": "code",
   "execution_count": 7,
   "id": "99415e3c",
   "metadata": {},
   "outputs": [
    {
     "data": {
      "text/html": [
       "<div>\n",
       "<style scoped>\n",
       "    .dataframe tbody tr th:only-of-type {\n",
       "        vertical-align: middle;\n",
       "    }\n",
       "\n",
       "    .dataframe tbody tr th {\n",
       "        vertical-align: top;\n",
       "    }\n",
       "\n",
       "    .dataframe thead th {\n",
       "        text-align: right;\n",
       "    }\n",
       "</style>\n",
       "<table border=\"1\" class=\"dataframe\">\n",
       "  <thead>\n",
       "    <tr style=\"text-align: right;\">\n",
       "      <th></th>\n",
       "      <th>buyer_id</th>\n",
       "      <th>buyer_country</th>\n",
       "      <th>seller_id</th>\n",
       "      <th>seller_country</th>\n",
       "      <th>product_code</th>\n",
       "      <th>category</th>\n",
       "      <th>brand</th>\n",
       "      <th>currency</th>\n",
       "      <th>price</th>\n",
       "      <th>date</th>\n",
       "    </tr>\n",
       "  </thead>\n",
       "  <tbody>\n",
       "    <tr>\n",
       "      <th>0</th>\n",
       "      <td>qzpjsi9t0o</td>\n",
       "      <td>GB</td>\n",
       "      <td>6oufpaot</td>\n",
       "      <td>GB</td>\n",
       "      <td>ydecnydr6obf</td>\n",
       "      <td>Dresses</td>\n",
       "      <td>NaN</td>\n",
       "      <td>GBP</td>\n",
       "      <td>19.11</td>\n",
       "      <td>2020-08-03</td>\n",
       "    </tr>\n",
       "  </tbody>\n",
       "</table>\n",
       "</div>"
      ],
      "text/plain": [
       "     buyer_id buyer_country seller_id seller_country  product_code category  \\\n",
       "0  qzpjsi9t0o            GB  6oufpaot             GB  ydecnydr6obf  Dresses   \n",
       "\n",
       "  brand currency  price        date  \n",
       "0   NaN      GBP  19.11  2020-08-03  "
      ]
     },
     "execution_count": 7,
     "metadata": {},
     "output_type": "execute_result"
    }
   ],
   "source": [
    "sales_df.head(1)"
   ]
  },
  {
   "cell_type": "code",
   "execution_count": 8,
   "id": "4e1cf5d3",
   "metadata": {},
   "outputs": [
    {
     "data": {
      "text/plain": [
       "pzsiehl0    703\n",
       "wd3rgi3q    525\n",
       "j21w87xy    500\n",
       "dbm0o9qu    436\n",
       "hbtm3tdy    316\n",
       "           ... \n",
       "b79drc4f      1\n",
       "ivtfeqcd      1\n",
       "uvfzdgb4      1\n",
       "pbrox97s      1\n",
       "0au7baxi      1\n",
       "Name: seller_id, Length: 114227, dtype: int64"
      ]
     },
     "execution_count": 8,
     "metadata": {},
     "output_type": "execute_result"
    }
   ],
   "source": [
    "sales_df[\"seller_id\"].value_counts()"
   ]
  },
  {
   "cell_type": "code",
   "execution_count": 9,
   "id": "0ae3f9eb",
   "metadata": {},
   "outputs": [
    {
     "data": {
      "text/plain": [
       "114227"
      ]
     },
     "execution_count": 9,
     "metadata": {},
     "output_type": "execute_result"
    }
   ],
   "source": [
    "sales_df['seller_id'].nunique()"
   ]
  },
  {
   "cell_type": "markdown",
   "id": "01832f8e",
   "metadata": {},
   "source": [
    "***4. What is the total value of sales in EUR?(Just write the numbers in the format of 0.000.000 )***"
   ]
  },
  {
   "cell_type": "code",
   "execution_count": 10,
   "id": "35792b72",
   "metadata": {},
   "outputs": [
    {
     "data": {
      "text/plain": [
       "0    8/1/2020\n",
       "1    8/2/2020\n",
       "2    8/3/2020\n",
       "3    8/4/2020\n",
       "4    8/5/2020\n",
       "Name: date, dtype: object"
      ]
     },
     "execution_count": 10,
     "metadata": {},
     "output_type": "execute_result"
    }
   ],
   "source": [
    "currency_df.date.head()"
   ]
  },
  {
   "cell_type": "code",
   "execution_count": 12,
   "id": "46d189f1",
   "metadata": {},
   "outputs": [],
   "source": [
    "sales_df.date = pd.to_datetime(sales_df.date)"
   ]
  },
  {
   "cell_type": "code",
   "execution_count": 13,
   "id": "3d31fc9f",
   "metadata": {},
   "outputs": [
    {
     "data": {
      "text/plain": [
       "0   2020-08-03\n",
       "1   2020-08-09\n",
       "2   2020-08-07\n",
       "3   2020-08-09\n",
       "4   2020-08-09\n",
       "Name: date, dtype: datetime64[ns]"
      ]
     },
     "execution_count": 13,
     "metadata": {},
     "output_type": "execute_result"
    }
   ],
   "source": [
    "sales_df.date.head()"
   ]
  },
  {
   "cell_type": "code",
   "execution_count": 14,
   "id": "d4faa515",
   "metadata": {},
   "outputs": [
    {
     "data": {
      "text/html": [
       "<div>\n",
       "<style scoped>\n",
       "    .dataframe tbody tr th:only-of-type {\n",
       "        vertical-align: middle;\n",
       "    }\n",
       "\n",
       "    .dataframe tbody tr th {\n",
       "        vertical-align: top;\n",
       "    }\n",
       "\n",
       "    .dataframe thead th {\n",
       "        text-align: right;\n",
       "    }\n",
       "</style>\n",
       "<table border=\"1\" class=\"dataframe\">\n",
       "  <thead>\n",
       "    <tr style=\"text-align: right;\">\n",
       "      <th></th>\n",
       "      <th>buyer_id</th>\n",
       "      <th>buyer_country</th>\n",
       "      <th>seller_id</th>\n",
       "      <th>seller_country</th>\n",
       "      <th>product_code</th>\n",
       "      <th>category</th>\n",
       "      <th>brand</th>\n",
       "      <th>currency</th>\n",
       "      <th>price</th>\n",
       "      <th>date</th>\n",
       "    </tr>\n",
       "  </thead>\n",
       "  <tbody>\n",
       "    <tr>\n",
       "      <th>0</th>\n",
       "      <td>qzpjsi9t0o</td>\n",
       "      <td>GB</td>\n",
       "      <td>6oufpaot</td>\n",
       "      <td>GB</td>\n",
       "      <td>ydecnydr6obf</td>\n",
       "      <td>Dresses</td>\n",
       "      <td>NaN</td>\n",
       "      <td>GBP</td>\n",
       "      <td>19.11</td>\n",
       "      <td>2020-08-03</td>\n",
       "    </tr>\n",
       "    <tr>\n",
       "      <th>1</th>\n",
       "      <td>o79pns1qwo</td>\n",
       "      <td>GB</td>\n",
       "      <td>50xki2yg</td>\n",
       "      <td>GB</td>\n",
       "      <td>38chj507o6h2</td>\n",
       "      <td>Outerwear</td>\n",
       "      <td>Adidas Originals</td>\n",
       "      <td>GBP</td>\n",
       "      <td>15.92</td>\n",
       "      <td>2020-08-09</td>\n",
       "    </tr>\n",
       "    <tr>\n",
       "      <th>2</th>\n",
       "      <td>sjgbjdkhqx</td>\n",
       "      <td>GB</td>\n",
       "      <td>50xki2yg</td>\n",
       "      <td>GB</td>\n",
       "      <td>i9ynyxj5tdp8</td>\n",
       "      <td>Tops - Mens</td>\n",
       "      <td>NaN</td>\n",
       "      <td>GBP</td>\n",
       "      <td>6.37</td>\n",
       "      <td>2020-08-07</td>\n",
       "    </tr>\n",
       "    <tr>\n",
       "      <th>3</th>\n",
       "      <td>o79pns1qwo</td>\n",
       "      <td>GB</td>\n",
       "      <td>s0p322hh</td>\n",
       "      <td>GB</td>\n",
       "      <td>t50xe7moye8v</td>\n",
       "      <td>Tops - Mens</td>\n",
       "      <td>Berghaus</td>\n",
       "      <td>GBP</td>\n",
       "      <td>25.27</td>\n",
       "      <td>2020-08-09</td>\n",
       "    </tr>\n",
       "    <tr>\n",
       "      <th>4</th>\n",
       "      <td>o79pns1qwo</td>\n",
       "      <td>GB</td>\n",
       "      <td>dpkx192v</td>\n",
       "      <td>GB</td>\n",
       "      <td>hp4r9bjq68af</td>\n",
       "      <td>Bottoms - Womens</td>\n",
       "      <td>NaN</td>\n",
       "      <td>GBP</td>\n",
       "      <td>8.90</td>\n",
       "      <td>2020-08-09</td>\n",
       "    </tr>\n",
       "  </tbody>\n",
       "</table>\n",
       "</div>"
      ],
      "text/plain": [
       "     buyer_id buyer_country seller_id seller_country  product_code  \\\n",
       "0  qzpjsi9t0o            GB  6oufpaot             GB  ydecnydr6obf   \n",
       "1  o79pns1qwo            GB  50xki2yg             GB  38chj507o6h2   \n",
       "2  sjgbjdkhqx            GB  50xki2yg             GB  i9ynyxj5tdp8   \n",
       "3  o79pns1qwo            GB  s0p322hh             GB  t50xe7moye8v   \n",
       "4  o79pns1qwo            GB  dpkx192v             GB  hp4r9bjq68af   \n",
       "\n",
       "           category             brand currency  price       date  \n",
       "0           Dresses               NaN      GBP  19.11 2020-08-03  \n",
       "1         Outerwear  Adidas Originals      GBP  15.92 2020-08-09  \n",
       "2       Tops - Mens               NaN      GBP   6.37 2020-08-07  \n",
       "3       Tops - Mens          Berghaus      GBP  25.27 2020-08-09  \n",
       "4  Bottoms - Womens               NaN      GBP   8.90 2020-08-09  "
      ]
     },
     "execution_count": 14,
     "metadata": {},
     "output_type": "execute_result"
    }
   ],
   "source": [
    "sales_df.head()"
   ]
  },
  {
   "cell_type": "code",
   "execution_count": 15,
   "id": "05f9f6f4",
   "metadata": {},
   "outputs": [
    {
     "data": {
      "text/plain": [
       "0   2020-08-03\n",
       "1   2020-08-09\n",
       "2   2020-08-07\n",
       "3   2020-08-09\n",
       "4   2020-08-09\n",
       "Name: date, dtype: datetime64[ns]"
      ]
     },
     "execution_count": 15,
     "metadata": {},
     "output_type": "execute_result"
    }
   ],
   "source": [
    "sales_df.date.head()"
   ]
  },
  {
   "cell_type": "code",
   "execution_count": 16,
   "id": "7119b788",
   "metadata": {},
   "outputs": [],
   "source": [
    "currency_df.date = pd.to_datetime(currency_df.date)"
   ]
  },
  {
   "cell_type": "code",
   "execution_count": 17,
   "id": "5e339f85",
   "metadata": {},
   "outputs": [],
   "source": [
    "df_new = pd.merge(sales_df, currency_df, on=[\"date\", \"currency\"])"
   ]
  },
  {
   "cell_type": "code",
   "execution_count": 18,
   "id": "c416fe7d",
   "metadata": {},
   "outputs": [
    {
     "data": {
      "text/html": [
       "<div>\n",
       "<style scoped>\n",
       "    .dataframe tbody tr th:only-of-type {\n",
       "        vertical-align: middle;\n",
       "    }\n",
       "\n",
       "    .dataframe tbody tr th {\n",
       "        vertical-align: top;\n",
       "    }\n",
       "\n",
       "    .dataframe thead th {\n",
       "        text-align: right;\n",
       "    }\n",
       "</style>\n",
       "<table border=\"1\" class=\"dataframe\">\n",
       "  <thead>\n",
       "    <tr style=\"text-align: right;\">\n",
       "      <th></th>\n",
       "      <th>buyer_id</th>\n",
       "      <th>buyer_country</th>\n",
       "      <th>seller_id</th>\n",
       "      <th>seller_country</th>\n",
       "      <th>product_code</th>\n",
       "      <th>category</th>\n",
       "      <th>brand</th>\n",
       "      <th>currency</th>\n",
       "      <th>price</th>\n",
       "      <th>date</th>\n",
       "      <th>rate</th>\n",
       "    </tr>\n",
       "  </thead>\n",
       "  <tbody>\n",
       "    <tr>\n",
       "      <th>0</th>\n",
       "      <td>qzpjsi9t0o</td>\n",
       "      <td>GB</td>\n",
       "      <td>6oufpaot</td>\n",
       "      <td>GB</td>\n",
       "      <td>ydecnydr6obf</td>\n",
       "      <td>Dresses</td>\n",
       "      <td>NaN</td>\n",
       "      <td>GBP</td>\n",
       "      <td>19.11</td>\n",
       "      <td>2020-08-03</td>\n",
       "      <td>0.89935</td>\n",
       "    </tr>\n",
       "    <tr>\n",
       "      <th>1</th>\n",
       "      <td>rd209r8c7c</td>\n",
       "      <td>GB</td>\n",
       "      <td>9p2ansc9</td>\n",
       "      <td>GB</td>\n",
       "      <td>wpxxf59cq7pc</td>\n",
       "      <td>Outerwear - Mens</td>\n",
       "      <td>Adidas Originals</td>\n",
       "      <td>GBP</td>\n",
       "      <td>24.91</td>\n",
       "      <td>2020-08-03</td>\n",
       "      <td>0.89935</td>\n",
       "    </tr>\n",
       "    <tr>\n",
       "      <th>2</th>\n",
       "      <td>pqbcrl8azx</td>\n",
       "      <td>GB</td>\n",
       "      <td>r9zmzem8</td>\n",
       "      <td>GB</td>\n",
       "      <td>ua9mmn86wsqy</td>\n",
       "      <td>Tops - Womens</td>\n",
       "      <td>NaN</td>\n",
       "      <td>GBP</td>\n",
       "      <td>19.31</td>\n",
       "      <td>2020-08-03</td>\n",
       "      <td>0.89935</td>\n",
       "    </tr>\n",
       "    <tr>\n",
       "      <th>3</th>\n",
       "      <td>j5en1rwmxp</td>\n",
       "      <td>GB</td>\n",
       "      <td>3o2nz88r</td>\n",
       "      <td>GB</td>\n",
       "      <td>tduo2uy8iszl</td>\n",
       "      <td>Bottoms - Womens</td>\n",
       "      <td>Urban Outfitters</td>\n",
       "      <td>GBP</td>\n",
       "      <td>16.98</td>\n",
       "      <td>2020-08-03</td>\n",
       "      <td>0.89935</td>\n",
       "    </tr>\n",
       "    <tr>\n",
       "      <th>4</th>\n",
       "      <td>kjdezxeh1l</td>\n",
       "      <td>GB</td>\n",
       "      <td>7g56ublf</td>\n",
       "      <td>GB</td>\n",
       "      <td>39o00tcu89zq</td>\n",
       "      <td>Other</td>\n",
       "      <td>NaN</td>\n",
       "      <td>GBP</td>\n",
       "      <td>2.85</td>\n",
       "      <td>2020-08-03</td>\n",
       "      <td>0.89935</td>\n",
       "    </tr>\n",
       "    <tr>\n",
       "      <th>...</th>\n",
       "      <td>...</td>\n",
       "      <td>...</td>\n",
       "      <td>...</td>\n",
       "      <td>...</td>\n",
       "      <td>...</td>\n",
       "      <td>...</td>\n",
       "      <td>...</td>\n",
       "      <td>...</td>\n",
       "      <td>...</td>\n",
       "      <td>...</td>\n",
       "      <td>...</td>\n",
       "    </tr>\n",
       "    <tr>\n",
       "      <th>237666</th>\n",
       "      <td>d7dx6f3qv7</td>\n",
       "      <td>RoW</td>\n",
       "      <td>e2p108mu</td>\n",
       "      <td>RoW</td>\n",
       "      <td>nan9a4p10ayk</td>\n",
       "      <td>Tops - Mens</td>\n",
       "      <td>NaN</td>\n",
       "      <td>PLN</td>\n",
       "      <td>4.24</td>\n",
       "      <td>2020-08-04</td>\n",
       "      <td>4.39693</td>\n",
       "    </tr>\n",
       "    <tr>\n",
       "      <th>237667</th>\n",
       "      <td>iaf2ck3rj6</td>\n",
       "      <td>IT</td>\n",
       "      <td>gjb1qntq</td>\n",
       "      <td>RoW</td>\n",
       "      <td>lxj477q1hab2</td>\n",
       "      <td>Accessories</td>\n",
       "      <td>NaN</td>\n",
       "      <td>CZK</td>\n",
       "      <td>3923.18</td>\n",
       "      <td>2020-08-04</td>\n",
       "      <td>26.12360</td>\n",
       "    </tr>\n",
       "    <tr>\n",
       "      <th>237668</th>\n",
       "      <td>tucgt70cwc</td>\n",
       "      <td>AU</td>\n",
       "      <td>9adnlxvr</td>\n",
       "      <td>RoW</td>\n",
       "      <td>2g0g0obhwjuc</td>\n",
       "      <td>Jewellery</td>\n",
       "      <td>NaN</td>\n",
       "      <td>PLN</td>\n",
       "      <td>525.82</td>\n",
       "      <td>2020-08-09</td>\n",
       "      <td>4.41427</td>\n",
       "    </tr>\n",
       "    <tr>\n",
       "      <th>237669</th>\n",
       "      <td>rrfjxzbdxu</td>\n",
       "      <td>US</td>\n",
       "      <td>w2pozh7u</td>\n",
       "      <td>US</td>\n",
       "      <td>5mm5eg99xbu2</td>\n",
       "      <td>Bottoms - Womens</td>\n",
       "      <td>Brandy Melville</td>\n",
       "      <td>BRL</td>\n",
       "      <td>34.92</td>\n",
       "      <td>2020-08-06</td>\n",
       "      <td>6.33240</td>\n",
       "    </tr>\n",
       "    <tr>\n",
       "      <th>237670</th>\n",
       "      <td>wnmihth4io</td>\n",
       "      <td>GB</td>\n",
       "      <td>5yogzc17</td>\n",
       "      <td>RoW</td>\n",
       "      <td>wrgq88ujwh5d</td>\n",
       "      <td>Bottoms - Womens</td>\n",
       "      <td>NaN</td>\n",
       "      <td>NOK</td>\n",
       "      <td>533.06</td>\n",
       "      <td>2020-08-08</td>\n",
       "      <td>10.64540</td>\n",
       "    </tr>\n",
       "  </tbody>\n",
       "</table>\n",
       "<p>237671 rows × 11 columns</p>\n",
       "</div>"
      ],
      "text/plain": [
       "          buyer_id buyer_country seller_id seller_country  product_code  \\\n",
       "0       qzpjsi9t0o            GB  6oufpaot             GB  ydecnydr6obf   \n",
       "1       rd209r8c7c            GB  9p2ansc9             GB  wpxxf59cq7pc   \n",
       "2       pqbcrl8azx            GB  r9zmzem8             GB  ua9mmn86wsqy   \n",
       "3       j5en1rwmxp            GB  3o2nz88r             GB  tduo2uy8iszl   \n",
       "4       kjdezxeh1l            GB  7g56ublf             GB  39o00tcu89zq   \n",
       "...            ...           ...       ...            ...           ...   \n",
       "237666  d7dx6f3qv7           RoW  e2p108mu            RoW  nan9a4p10ayk   \n",
       "237667  iaf2ck3rj6            IT  gjb1qntq            RoW  lxj477q1hab2   \n",
       "237668  tucgt70cwc            AU  9adnlxvr            RoW  2g0g0obhwjuc   \n",
       "237669  rrfjxzbdxu            US  w2pozh7u             US  5mm5eg99xbu2   \n",
       "237670  wnmihth4io            GB  5yogzc17            RoW  wrgq88ujwh5d   \n",
       "\n",
       "                category             brand currency    price       date  \\\n",
       "0                Dresses               NaN      GBP    19.11 2020-08-03   \n",
       "1       Outerwear - Mens  Adidas Originals      GBP    24.91 2020-08-03   \n",
       "2          Tops - Womens               NaN      GBP    19.31 2020-08-03   \n",
       "3       Bottoms - Womens  Urban Outfitters      GBP    16.98 2020-08-03   \n",
       "4                  Other               NaN      GBP     2.85 2020-08-03   \n",
       "...                  ...               ...      ...      ...        ...   \n",
       "237666       Tops - Mens               NaN      PLN     4.24 2020-08-04   \n",
       "237667       Accessories               NaN      CZK  3923.18 2020-08-04   \n",
       "237668         Jewellery               NaN      PLN   525.82 2020-08-09   \n",
       "237669  Bottoms - Womens   Brandy Melville      BRL    34.92 2020-08-06   \n",
       "237670  Bottoms - Womens               NaN      NOK   533.06 2020-08-08   \n",
       "\n",
       "            rate  \n",
       "0        0.89935  \n",
       "1        0.89935  \n",
       "2        0.89935  \n",
       "3        0.89935  \n",
       "4        0.89935  \n",
       "...          ...  \n",
       "237666   4.39693  \n",
       "237667  26.12360  \n",
       "237668   4.41427  \n",
       "237669   6.33240  \n",
       "237670  10.64540  \n",
       "\n",
       "[237671 rows x 11 columns]"
      ]
     },
     "execution_count": 18,
     "metadata": {},
     "output_type": "execute_result"
    }
   ],
   "source": [
    "df_new"
   ]
  },
  {
   "cell_type": "code",
   "execution_count": 19,
   "id": "b34d9979",
   "metadata": {},
   "outputs": [
    {
     "data": {
      "text/html": [
       "<div>\n",
       "<style scoped>\n",
       "    .dataframe tbody tr th:only-of-type {\n",
       "        vertical-align: middle;\n",
       "    }\n",
       "\n",
       "    .dataframe tbody tr th {\n",
       "        vertical-align: top;\n",
       "    }\n",
       "\n",
       "    .dataframe thead th {\n",
       "        text-align: right;\n",
       "    }\n",
       "</style>\n",
       "<table border=\"1\" class=\"dataframe\">\n",
       "  <thead>\n",
       "    <tr style=\"text-align: right;\">\n",
       "      <th></th>\n",
       "      <th>buyer_id</th>\n",
       "      <th>buyer_country</th>\n",
       "      <th>seller_id</th>\n",
       "      <th>seller_country</th>\n",
       "      <th>product_code</th>\n",
       "      <th>category</th>\n",
       "      <th>brand</th>\n",
       "      <th>currency</th>\n",
       "      <th>price</th>\n",
       "      <th>date</th>\n",
       "      <th>rate</th>\n",
       "      <th>total</th>\n",
       "    </tr>\n",
       "  </thead>\n",
       "  <tbody>\n",
       "    <tr>\n",
       "      <th>0</th>\n",
       "      <td>qzpjsi9t0o</td>\n",
       "      <td>GB</td>\n",
       "      <td>6oufpaot</td>\n",
       "      <td>GB</td>\n",
       "      <td>ydecnydr6obf</td>\n",
       "      <td>Dresses</td>\n",
       "      <td>NaN</td>\n",
       "      <td>GBP</td>\n",
       "      <td>19.11</td>\n",
       "      <td>2020-08-03</td>\n",
       "      <td>0.89935</td>\n",
       "      <td>21.248680</td>\n",
       "    </tr>\n",
       "    <tr>\n",
       "      <th>1</th>\n",
       "      <td>rd209r8c7c</td>\n",
       "      <td>GB</td>\n",
       "      <td>9p2ansc9</td>\n",
       "      <td>GB</td>\n",
       "      <td>wpxxf59cq7pc</td>\n",
       "      <td>Outerwear - Mens</td>\n",
       "      <td>Adidas Originals</td>\n",
       "      <td>GBP</td>\n",
       "      <td>24.91</td>\n",
       "      <td>2020-08-03</td>\n",
       "      <td>0.89935</td>\n",
       "      <td>27.697782</td>\n",
       "    </tr>\n",
       "    <tr>\n",
       "      <th>2</th>\n",
       "      <td>pqbcrl8azx</td>\n",
       "      <td>GB</td>\n",
       "      <td>r9zmzem8</td>\n",
       "      <td>GB</td>\n",
       "      <td>ua9mmn86wsqy</td>\n",
       "      <td>Tops - Womens</td>\n",
       "      <td>NaN</td>\n",
       "      <td>GBP</td>\n",
       "      <td>19.31</td>\n",
       "      <td>2020-08-03</td>\n",
       "      <td>0.89935</td>\n",
       "      <td>21.471062</td>\n",
       "    </tr>\n",
       "    <tr>\n",
       "      <th>3</th>\n",
       "      <td>j5en1rwmxp</td>\n",
       "      <td>GB</td>\n",
       "      <td>3o2nz88r</td>\n",
       "      <td>GB</td>\n",
       "      <td>tduo2uy8iszl</td>\n",
       "      <td>Bottoms - Womens</td>\n",
       "      <td>Urban Outfitters</td>\n",
       "      <td>GBP</td>\n",
       "      <td>16.98</td>\n",
       "      <td>2020-08-03</td>\n",
       "      <td>0.89935</td>\n",
       "      <td>18.880302</td>\n",
       "    </tr>\n",
       "    <tr>\n",
       "      <th>4</th>\n",
       "      <td>kjdezxeh1l</td>\n",
       "      <td>GB</td>\n",
       "      <td>7g56ublf</td>\n",
       "      <td>GB</td>\n",
       "      <td>39o00tcu89zq</td>\n",
       "      <td>Other</td>\n",
       "      <td>NaN</td>\n",
       "      <td>GBP</td>\n",
       "      <td>2.85</td>\n",
       "      <td>2020-08-03</td>\n",
       "      <td>0.89935</td>\n",
       "      <td>3.168955</td>\n",
       "    </tr>\n",
       "    <tr>\n",
       "      <th>...</th>\n",
       "      <td>...</td>\n",
       "      <td>...</td>\n",
       "      <td>...</td>\n",
       "      <td>...</td>\n",
       "      <td>...</td>\n",
       "      <td>...</td>\n",
       "      <td>...</td>\n",
       "      <td>...</td>\n",
       "      <td>...</td>\n",
       "      <td>...</td>\n",
       "      <td>...</td>\n",
       "      <td>...</td>\n",
       "    </tr>\n",
       "    <tr>\n",
       "      <th>237666</th>\n",
       "      <td>d7dx6f3qv7</td>\n",
       "      <td>RoW</td>\n",
       "      <td>e2p108mu</td>\n",
       "      <td>RoW</td>\n",
       "      <td>nan9a4p10ayk</td>\n",
       "      <td>Tops - Mens</td>\n",
       "      <td>NaN</td>\n",
       "      <td>PLN</td>\n",
       "      <td>4.24</td>\n",
       "      <td>2020-08-04</td>\n",
       "      <td>4.39693</td>\n",
       "      <td>0.964309</td>\n",
       "    </tr>\n",
       "    <tr>\n",
       "      <th>237667</th>\n",
       "      <td>iaf2ck3rj6</td>\n",
       "      <td>IT</td>\n",
       "      <td>gjb1qntq</td>\n",
       "      <td>RoW</td>\n",
       "      <td>lxj477q1hab2</td>\n",
       "      <td>Accessories</td>\n",
       "      <td>NaN</td>\n",
       "      <td>CZK</td>\n",
       "      <td>3923.18</td>\n",
       "      <td>2020-08-04</td>\n",
       "      <td>26.12360</td>\n",
       "      <td>150.177617</td>\n",
       "    </tr>\n",
       "    <tr>\n",
       "      <th>237668</th>\n",
       "      <td>tucgt70cwc</td>\n",
       "      <td>AU</td>\n",
       "      <td>9adnlxvr</td>\n",
       "      <td>RoW</td>\n",
       "      <td>2g0g0obhwjuc</td>\n",
       "      <td>Jewellery</td>\n",
       "      <td>NaN</td>\n",
       "      <td>PLN</td>\n",
       "      <td>525.82</td>\n",
       "      <td>2020-08-09</td>\n",
       "      <td>4.41427</td>\n",
       "      <td>119.118223</td>\n",
       "    </tr>\n",
       "    <tr>\n",
       "      <th>237669</th>\n",
       "      <td>rrfjxzbdxu</td>\n",
       "      <td>US</td>\n",
       "      <td>w2pozh7u</td>\n",
       "      <td>US</td>\n",
       "      <td>5mm5eg99xbu2</td>\n",
       "      <td>Bottoms - Womens</td>\n",
       "      <td>Brandy Melville</td>\n",
       "      <td>BRL</td>\n",
       "      <td>34.92</td>\n",
       "      <td>2020-08-06</td>\n",
       "      <td>6.33240</td>\n",
       "      <td>5.514497</td>\n",
       "    </tr>\n",
       "    <tr>\n",
       "      <th>237670</th>\n",
       "      <td>wnmihth4io</td>\n",
       "      <td>GB</td>\n",
       "      <td>5yogzc17</td>\n",
       "      <td>RoW</td>\n",
       "      <td>wrgq88ujwh5d</td>\n",
       "      <td>Bottoms - Womens</td>\n",
       "      <td>NaN</td>\n",
       "      <td>NOK</td>\n",
       "      <td>533.06</td>\n",
       "      <td>2020-08-08</td>\n",
       "      <td>10.64540</td>\n",
       "      <td>50.074210</td>\n",
       "    </tr>\n",
       "  </tbody>\n",
       "</table>\n",
       "<p>237671 rows × 12 columns</p>\n",
       "</div>"
      ],
      "text/plain": [
       "          buyer_id buyer_country seller_id seller_country  product_code  \\\n",
       "0       qzpjsi9t0o            GB  6oufpaot             GB  ydecnydr6obf   \n",
       "1       rd209r8c7c            GB  9p2ansc9             GB  wpxxf59cq7pc   \n",
       "2       pqbcrl8azx            GB  r9zmzem8             GB  ua9mmn86wsqy   \n",
       "3       j5en1rwmxp            GB  3o2nz88r             GB  tduo2uy8iszl   \n",
       "4       kjdezxeh1l            GB  7g56ublf             GB  39o00tcu89zq   \n",
       "...            ...           ...       ...            ...           ...   \n",
       "237666  d7dx6f3qv7           RoW  e2p108mu            RoW  nan9a4p10ayk   \n",
       "237667  iaf2ck3rj6            IT  gjb1qntq            RoW  lxj477q1hab2   \n",
       "237668  tucgt70cwc            AU  9adnlxvr            RoW  2g0g0obhwjuc   \n",
       "237669  rrfjxzbdxu            US  w2pozh7u             US  5mm5eg99xbu2   \n",
       "237670  wnmihth4io            GB  5yogzc17            RoW  wrgq88ujwh5d   \n",
       "\n",
       "                category             brand currency    price       date  \\\n",
       "0                Dresses               NaN      GBP    19.11 2020-08-03   \n",
       "1       Outerwear - Mens  Adidas Originals      GBP    24.91 2020-08-03   \n",
       "2          Tops - Womens               NaN      GBP    19.31 2020-08-03   \n",
       "3       Bottoms - Womens  Urban Outfitters      GBP    16.98 2020-08-03   \n",
       "4                  Other               NaN      GBP     2.85 2020-08-03   \n",
       "...                  ...               ...      ...      ...        ...   \n",
       "237666       Tops - Mens               NaN      PLN     4.24 2020-08-04   \n",
       "237667       Accessories               NaN      CZK  3923.18 2020-08-04   \n",
       "237668         Jewellery               NaN      PLN   525.82 2020-08-09   \n",
       "237669  Bottoms - Womens   Brandy Melville      BRL    34.92 2020-08-06   \n",
       "237670  Bottoms - Womens               NaN      NOK   533.06 2020-08-08   \n",
       "\n",
       "            rate       total  \n",
       "0        0.89935   21.248680  \n",
       "1        0.89935   27.697782  \n",
       "2        0.89935   21.471062  \n",
       "3        0.89935   18.880302  \n",
       "4        0.89935    3.168955  \n",
       "...          ...         ...  \n",
       "237666   4.39693    0.964309  \n",
       "237667  26.12360  150.177617  \n",
       "237668   4.41427  119.118223  \n",
       "237669   6.33240    5.514497  \n",
       "237670  10.64540   50.074210  \n",
       "\n",
       "[237671 rows x 12 columns]"
      ]
     },
     "execution_count": 19,
     "metadata": {},
     "output_type": "execute_result"
    }
   ],
   "source": [
    "df_new[\"total\"] = df_new.price / df_new.rate\n",
    "df_new"
   ]
  },
  {
   "cell_type": "code",
   "execution_count": 20,
   "id": "8281b55a",
   "metadata": {},
   "outputs": [
    {
     "data": {
      "text/plain": [
       "6471510.822498876"
      ]
     },
     "execution_count": 20,
     "metadata": {},
     "output_type": "execute_result"
    }
   ],
   "source": [
    "df_new.total.sum()"
   ]
  },
  {
   "cell_type": "markdown",
   "id": "0fa2b376",
   "metadata": {},
   "source": [
    "***5. Which brand has the highest number of purchases during the period?(Just write down the brand as in the dataset, your answer is supposed to be case sensitive)***"
   ]
  },
  {
   "cell_type": "code",
   "execution_count": 21,
   "id": "41836153",
   "metadata": {},
   "outputs": [
    {
     "data": {
      "text/plain": [
       "array([nan, 'Adidas Originals', 'Urban Outfitters', ..., 'Lisa Says Gah',\n",
       "       'LC Lauren Conrad', 'KTZ'], dtype=object)"
      ]
     },
     "execution_count": 21,
     "metadata": {},
     "output_type": "execute_result"
    }
   ],
   "source": [
    "df_new.brand.unique()"
   ]
  },
  {
   "cell_type": "code",
   "execution_count": 22,
   "id": "0c256512",
   "metadata": {},
   "outputs": [
    {
     "data": {
      "text/plain": [
       "Nike                  9575\n",
       "Brandy Melville       5065\n",
       "Topshop               4561\n",
       "PrettyLittle Thing    4136\n",
       "Adidas                3905\n",
       "                      ... \n",
       "Filson                   1\n",
       "Surf Gypsy               1\n",
       "Chaser                   1\n",
       "All Things Mochi         1\n",
       "KTZ                      1\n",
       "Name: brand, Length: 1134, dtype: int64"
      ]
     },
     "execution_count": 22,
     "metadata": {},
     "output_type": "execute_result"
    }
   ],
   "source": [
    "df_new.brand.value_counts()"
   ]
  },
  {
   "cell_type": "markdown",
   "id": "57868722",
   "metadata": {},
   "source": [
    "***6. How many items in the “Jewellery” category have no brand associated with them?(Just write the numbers in the format of 00.000)***\n"
   ]
  },
  {
   "cell_type": "code",
   "execution_count": 23,
   "id": "a8f24f76",
   "metadata": {},
   "outputs": [
    {
     "data": {
      "text/html": [
       "<div>\n",
       "<style scoped>\n",
       "    .dataframe tbody tr th:only-of-type {\n",
       "        vertical-align: middle;\n",
       "    }\n",
       "\n",
       "    .dataframe tbody tr th {\n",
       "        vertical-align: top;\n",
       "    }\n",
       "\n",
       "    .dataframe thead th {\n",
       "        text-align: right;\n",
       "    }\n",
       "</style>\n",
       "<table border=\"1\" class=\"dataframe\">\n",
       "  <thead>\n",
       "    <tr style=\"text-align: right;\">\n",
       "      <th></th>\n",
       "      <th>buyer_id</th>\n",
       "      <th>buyer_country</th>\n",
       "      <th>seller_id</th>\n",
       "      <th>seller_country</th>\n",
       "      <th>product_code</th>\n",
       "      <th>category</th>\n",
       "      <th>brand</th>\n",
       "      <th>currency</th>\n",
       "      <th>price</th>\n",
       "      <th>date</th>\n",
       "      <th>rate</th>\n",
       "      <th>total</th>\n",
       "    </tr>\n",
       "  </thead>\n",
       "  <tbody>\n",
       "    <tr>\n",
       "      <th>0</th>\n",
       "      <td>qzpjsi9t0o</td>\n",
       "      <td>GB</td>\n",
       "      <td>6oufpaot</td>\n",
       "      <td>GB</td>\n",
       "      <td>ydecnydr6obf</td>\n",
       "      <td>Dresses</td>\n",
       "      <td>NaN</td>\n",
       "      <td>GBP</td>\n",
       "      <td>19.11</td>\n",
       "      <td>2020-08-03</td>\n",
       "      <td>0.89935</td>\n",
       "      <td>21.24868</td>\n",
       "    </tr>\n",
       "  </tbody>\n",
       "</table>\n",
       "</div>"
      ],
      "text/plain": [
       "     buyer_id buyer_country seller_id seller_country  product_code category  \\\n",
       "0  qzpjsi9t0o            GB  6oufpaot             GB  ydecnydr6obf  Dresses   \n",
       "\n",
       "  brand currency  price       date     rate     total  \n",
       "0   NaN      GBP  19.11 2020-08-03  0.89935  21.24868  "
      ]
     },
     "execution_count": 23,
     "metadata": {},
     "output_type": "execute_result"
    }
   ],
   "source": [
    "df_new.head(1)"
   ]
  },
  {
   "cell_type": "code",
   "execution_count": 24,
   "id": "8db1b99e",
   "metadata": {},
   "outputs": [
    {
     "data": {
      "text/plain": [
       "array(['Dresses', 'Outerwear - Mens', 'Tops - Womens', 'Bottoms - Womens',\n",
       "       'Other', 'Accessories', 'Jewellery', 'Home', 'Music', 'Shoes',\n",
       "       'Tops - Mens', 'Beauty', 'Bottoms - Mens', 'Art', 'Lingerie',\n",
       "       'Outerwear', 'Tech', 'Sports equipment', 'Books & magazines',\n",
       "       'Kids', 'Underwear', 'Transportation', 'Film', nan, 'UNSPECIFIED'],\n",
       "      dtype=object)"
      ]
     },
     "execution_count": 24,
     "metadata": {},
     "output_type": "execute_result"
    }
   ],
   "source": [
    "df_new.category.unique()"
   ]
  },
  {
   "cell_type": "code",
   "execution_count": 39,
   "id": "94dae7e3",
   "metadata": {},
   "outputs": [
    {
     "data": {
      "text/html": [
       "<div>\n",
       "<style scoped>\n",
       "    .dataframe tbody tr th:only-of-type {\n",
       "        vertical-align: middle;\n",
       "    }\n",
       "\n",
       "    .dataframe tbody tr th {\n",
       "        vertical-align: top;\n",
       "    }\n",
       "\n",
       "    .dataframe thead th {\n",
       "        text-align: right;\n",
       "    }\n",
       "</style>\n",
       "<table border=\"1\" class=\"dataframe\">\n",
       "  <thead>\n",
       "    <tr style=\"text-align: right;\">\n",
       "      <th></th>\n",
       "      <th>buyer_id</th>\n",
       "      <th>buyer_country</th>\n",
       "      <th>seller_id</th>\n",
       "      <th>seller_country</th>\n",
       "      <th>product_code</th>\n",
       "      <th>category</th>\n",
       "      <th>brand</th>\n",
       "      <th>currency</th>\n",
       "      <th>price</th>\n",
       "      <th>date</th>\n",
       "      <th>rate</th>\n",
       "      <th>total</th>\n",
       "    </tr>\n",
       "  </thead>\n",
       "  <tbody>\n",
       "    <tr>\n",
       "      <th>12</th>\n",
       "      <td>p6nqo9ow69</td>\n",
       "      <td>GB</td>\n",
       "      <td>nssbpcrq</td>\n",
       "      <td>GB</td>\n",
       "      <td>wq0l762madfz</td>\n",
       "      <td>Jewellery</td>\n",
       "      <td>NaN</td>\n",
       "      <td>GBP</td>\n",
       "      <td>5.46</td>\n",
       "      <td>2020-08-03</td>\n",
       "      <td>0.899350</td>\n",
       "      <td>6.071051</td>\n",
       "    </tr>\n",
       "    <tr>\n",
       "      <th>13</th>\n",
       "      <td>p6nqo9ow69</td>\n",
       "      <td>GB</td>\n",
       "      <td>nssbpcrq</td>\n",
       "      <td>GB</td>\n",
       "      <td>barsdufpkov1</td>\n",
       "      <td>Jewellery</td>\n",
       "      <td>NaN</td>\n",
       "      <td>GBP</td>\n",
       "      <td>5.38</td>\n",
       "      <td>2020-08-03</td>\n",
       "      <td>0.899350</td>\n",
       "      <td>5.982098</td>\n",
       "    </tr>\n",
       "    <tr>\n",
       "      <th>14</th>\n",
       "      <td>p6nqo9ow69</td>\n",
       "      <td>GB</td>\n",
       "      <td>nssbpcrq</td>\n",
       "      <td>GB</td>\n",
       "      <td>sx4v979fwe9g</td>\n",
       "      <td>Jewellery</td>\n",
       "      <td>NaN</td>\n",
       "      <td>GBP</td>\n",
       "      <td>5.55</td>\n",
       "      <td>2020-08-03</td>\n",
       "      <td>0.899350</td>\n",
       "      <td>6.171124</td>\n",
       "    </tr>\n",
       "    <tr>\n",
       "      <th>17</th>\n",
       "      <td>pykp4zs8mc</td>\n",
       "      <td>GB</td>\n",
       "      <td>scikolkp</td>\n",
       "      <td>GB</td>\n",
       "      <td>737xf8jztbe3</td>\n",
       "      <td>Jewellery</td>\n",
       "      <td>NaN</td>\n",
       "      <td>GBP</td>\n",
       "      <td>3.16</td>\n",
       "      <td>2020-08-03</td>\n",
       "      <td>0.899350</td>\n",
       "      <td>3.513649</td>\n",
       "    </tr>\n",
       "    <tr>\n",
       "      <th>18</th>\n",
       "      <td>o5xp196pcv</td>\n",
       "      <td>GB</td>\n",
       "      <td>scikolkp</td>\n",
       "      <td>GB</td>\n",
       "      <td>737xf8jztbe3</td>\n",
       "      <td>Jewellery</td>\n",
       "      <td>NaN</td>\n",
       "      <td>GBP</td>\n",
       "      <td>3.19</td>\n",
       "      <td>2020-08-03</td>\n",
       "      <td>0.899350</td>\n",
       "      <td>3.547006</td>\n",
       "    </tr>\n",
       "    <tr>\n",
       "      <th>...</th>\n",
       "      <td>...</td>\n",
       "      <td>...</td>\n",
       "      <td>...</td>\n",
       "      <td>...</td>\n",
       "      <td>...</td>\n",
       "      <td>...</td>\n",
       "      <td>...</td>\n",
       "      <td>...</td>\n",
       "      <td>...</td>\n",
       "      <td>...</td>\n",
       "      <td>...</td>\n",
       "      <td>...</td>\n",
       "    </tr>\n",
       "    <tr>\n",
       "      <th>237559</th>\n",
       "      <td>r5yybfohtd</td>\n",
       "      <td>RoW</td>\n",
       "      <td>obj73jrd</td>\n",
       "      <td>RoW</td>\n",
       "      <td>cltpu36u88j9</td>\n",
       "      <td>Jewellery</td>\n",
       "      <td>NaN</td>\n",
       "      <td>CHF</td>\n",
       "      <td>51.37</td>\n",
       "      <td>2020-08-06</td>\n",
       "      <td>1.080625</td>\n",
       "      <td>47.537305</td>\n",
       "    </tr>\n",
       "    <tr>\n",
       "      <th>237603</th>\n",
       "      <td>cdg1teu4ci</td>\n",
       "      <td>RoW</td>\n",
       "      <td>qkbj84x9</td>\n",
       "      <td>RoW</td>\n",
       "      <td>57vayo0pe16h</td>\n",
       "      <td>Jewellery</td>\n",
       "      <td>NaN</td>\n",
       "      <td>CHF</td>\n",
       "      <td>6.43</td>\n",
       "      <td>2020-08-05</td>\n",
       "      <td>1.078185</td>\n",
       "      <td>5.963726</td>\n",
       "    </tr>\n",
       "    <tr>\n",
       "      <th>237605</th>\n",
       "      <td>akms2z4sfi</td>\n",
       "      <td>RoW</td>\n",
       "      <td>46doai5x</td>\n",
       "      <td>RoW</td>\n",
       "      <td>23m53gbwhy5i</td>\n",
       "      <td>Jewellery</td>\n",
       "      <td>NaN</td>\n",
       "      <td>CHF</td>\n",
       "      <td>12.98</td>\n",
       "      <td>2020-08-05</td>\n",
       "      <td>1.078185</td>\n",
       "      <td>12.038750</td>\n",
       "    </tr>\n",
       "    <tr>\n",
       "      <th>237644</th>\n",
       "      <td>5dqjb29gah</td>\n",
       "      <td>RoW</td>\n",
       "      <td>echsgc0o</td>\n",
       "      <td>RoW</td>\n",
       "      <td>gamzhdm6zesg</td>\n",
       "      <td>Jewellery</td>\n",
       "      <td>NaN</td>\n",
       "      <td>SEK</td>\n",
       "      <td>328.72</td>\n",
       "      <td>2020-08-07</td>\n",
       "      <td>10.314180</td>\n",
       "      <td>31.870687</td>\n",
       "    </tr>\n",
       "    <tr>\n",
       "      <th>237668</th>\n",
       "      <td>tucgt70cwc</td>\n",
       "      <td>AU</td>\n",
       "      <td>9adnlxvr</td>\n",
       "      <td>RoW</td>\n",
       "      <td>2g0g0obhwjuc</td>\n",
       "      <td>Jewellery</td>\n",
       "      <td>NaN</td>\n",
       "      <td>PLN</td>\n",
       "      <td>525.82</td>\n",
       "      <td>2020-08-09</td>\n",
       "      <td>4.414270</td>\n",
       "      <td>119.118223</td>\n",
       "    </tr>\n",
       "  </tbody>\n",
       "</table>\n",
       "<p>13525 rows × 12 columns</p>\n",
       "</div>"
      ],
      "text/plain": [
       "          buyer_id buyer_country seller_id seller_country  product_code  \\\n",
       "12      p6nqo9ow69            GB  nssbpcrq             GB  wq0l762madfz   \n",
       "13      p6nqo9ow69            GB  nssbpcrq             GB  barsdufpkov1   \n",
       "14      p6nqo9ow69            GB  nssbpcrq             GB  sx4v979fwe9g   \n",
       "17      pykp4zs8mc            GB  scikolkp             GB  737xf8jztbe3   \n",
       "18      o5xp196pcv            GB  scikolkp             GB  737xf8jztbe3   \n",
       "...            ...           ...       ...            ...           ...   \n",
       "237559  r5yybfohtd           RoW  obj73jrd            RoW  cltpu36u88j9   \n",
       "237603  cdg1teu4ci           RoW  qkbj84x9            RoW  57vayo0pe16h   \n",
       "237605  akms2z4sfi           RoW  46doai5x            RoW  23m53gbwhy5i   \n",
       "237644  5dqjb29gah           RoW  echsgc0o            RoW  gamzhdm6zesg   \n",
       "237668  tucgt70cwc            AU  9adnlxvr            RoW  2g0g0obhwjuc   \n",
       "\n",
       "         category brand currency   price       date       rate       total  \n",
       "12      Jewellery   NaN      GBP    5.46 2020-08-03   0.899350    6.071051  \n",
       "13      Jewellery   NaN      GBP    5.38 2020-08-03   0.899350    5.982098  \n",
       "14      Jewellery   NaN      GBP    5.55 2020-08-03   0.899350    6.171124  \n",
       "17      Jewellery   NaN      GBP    3.16 2020-08-03   0.899350    3.513649  \n",
       "18      Jewellery   NaN      GBP    3.19 2020-08-03   0.899350    3.547006  \n",
       "...           ...   ...      ...     ...        ...        ...         ...  \n",
       "237559  Jewellery   NaN      CHF   51.37 2020-08-06   1.080625   47.537305  \n",
       "237603  Jewellery   NaN      CHF    6.43 2020-08-05   1.078185    5.963726  \n",
       "237605  Jewellery   NaN      CHF   12.98 2020-08-05   1.078185   12.038750  \n",
       "237644  Jewellery   NaN      SEK  328.72 2020-08-07  10.314180   31.870687  \n",
       "237668  Jewellery   NaN      PLN  525.82 2020-08-09   4.414270  119.118223  \n",
       "\n",
       "[13525 rows x 12 columns]"
      ]
     },
     "execution_count": 39,
     "metadata": {},
     "output_type": "execute_result"
    }
   ],
   "source": [
    "df_new[(df_new.category == \"Jewellery\") & (df_new.brand.isnull())]"
   ]
  },
  {
   "cell_type": "code",
   "execution_count": 26,
   "id": "c9f813f7",
   "metadata": {},
   "outputs": [
    {
     "data": {
      "text/plain": [
       "10931"
      ]
     },
     "execution_count": 26,
     "metadata": {},
     "output_type": "execute_result"
    }
   ],
   "source": [
    "df_new[(df_new.category == \"Jewellery\") & (df_new.brand.isnull())].product_code.nunique()"
   ]
  },
  {
   "cell_type": "markdown",
   "id": "aa818ae0",
   "metadata": {},
   "source": [
    "***7. How many brands have between 35 and 55 transactions (inclusive)?(Just write the numbers)***"
   ]
  },
  {
   "cell_type": "code",
   "execution_count": 27,
   "id": "5183587a",
   "metadata": {},
   "outputs": [
    {
     "data": {
      "text/html": [
       "<div>\n",
       "<style scoped>\n",
       "    .dataframe tbody tr th:only-of-type {\n",
       "        vertical-align: middle;\n",
       "    }\n",
       "\n",
       "    .dataframe tbody tr th {\n",
       "        vertical-align: top;\n",
       "    }\n",
       "\n",
       "    .dataframe thead th {\n",
       "        text-align: right;\n",
       "    }\n",
       "</style>\n",
       "<table border=\"1\" class=\"dataframe\">\n",
       "  <thead>\n",
       "    <tr style=\"text-align: right;\">\n",
       "      <th></th>\n",
       "      <th>buyer_id</th>\n",
       "      <th>buyer_country</th>\n",
       "      <th>seller_id</th>\n",
       "      <th>seller_country</th>\n",
       "      <th>product_code</th>\n",
       "      <th>category</th>\n",
       "      <th>brand</th>\n",
       "      <th>currency</th>\n",
       "      <th>price</th>\n",
       "      <th>date</th>\n",
       "      <th>rate</th>\n",
       "      <th>total</th>\n",
       "    </tr>\n",
       "  </thead>\n",
       "  <tbody>\n",
       "    <tr>\n",
       "      <th>0</th>\n",
       "      <td>qzpjsi9t0o</td>\n",
       "      <td>GB</td>\n",
       "      <td>6oufpaot</td>\n",
       "      <td>GB</td>\n",
       "      <td>ydecnydr6obf</td>\n",
       "      <td>Dresses</td>\n",
       "      <td>NaN</td>\n",
       "      <td>GBP</td>\n",
       "      <td>19.11</td>\n",
       "      <td>2020-08-03</td>\n",
       "      <td>0.89935</td>\n",
       "      <td>21.24868</td>\n",
       "    </tr>\n",
       "  </tbody>\n",
       "</table>\n",
       "</div>"
      ],
      "text/plain": [
       "     buyer_id buyer_country seller_id seller_country  product_code category  \\\n",
       "0  qzpjsi9t0o            GB  6oufpaot             GB  ydecnydr6obf  Dresses   \n",
       "\n",
       "  brand currency  price       date     rate     total  \n",
       "0   NaN      GBP  19.11 2020-08-03  0.89935  21.24868  "
      ]
     },
     "execution_count": 27,
     "metadata": {},
     "output_type": "execute_result"
    }
   ],
   "source": [
    "df_new.head(1)"
   ]
  },
  {
   "cell_type": "code",
   "execution_count": 28,
   "id": "ae0558fa",
   "metadata": {},
   "outputs": [
    {
     "data": {
      "text/plain": [
       "Nike                  9575\n",
       "Brandy Melville       5065\n",
       "Topshop               4561\n",
       "PrettyLittle Thing    4136\n",
       "Adidas                3905\n",
       "                      ... \n",
       "Filson                   1\n",
       "Surf Gypsy               1\n",
       "Chaser                   1\n",
       "All Things Mochi         1\n",
       "KTZ                      1\n",
       "Name: brand, Length: 1134, dtype: int64"
      ]
     },
     "execution_count": 28,
     "metadata": {},
     "output_type": "execute_result"
    }
   ],
   "source": [
    "df_new.brand.value_counts()"
   ]
  },
  {
   "cell_type": "code",
   "execution_count": 29,
   "id": "b2d707ce",
   "metadata": {},
   "outputs": [
    {
     "data": {
      "text/plain": [
       "658"
      ]
     },
     "execution_count": 29,
     "metadata": {},
     "output_type": "execute_result"
    }
   ],
   "source": [
    "len(df_new[(df_new.buyer_country == \"AU\") & (df_new.category == \"Shoes\")])"
   ]
  },
  {
   "cell_type": "code",
   "execution_count": 35,
   "id": "a9a484a8",
   "metadata": {},
   "outputs": [
    {
     "data": {
      "text/html": [
       "<div>\n",
       "<style scoped>\n",
       "    .dataframe tbody tr th:only-of-type {\n",
       "        vertical-align: middle;\n",
       "    }\n",
       "\n",
       "    .dataframe tbody tr th {\n",
       "        vertical-align: top;\n",
       "    }\n",
       "\n",
       "    .dataframe thead th {\n",
       "        text-align: right;\n",
       "    }\n",
       "</style>\n",
       "<table border=\"1\" class=\"dataframe\">\n",
       "  <thead>\n",
       "    <tr style=\"text-align: right;\">\n",
       "      <th></th>\n",
       "      <th>count</th>\n",
       "      <th>mean</th>\n",
       "      <th>std</th>\n",
       "      <th>min</th>\n",
       "      <th>25%</th>\n",
       "      <th>50%</th>\n",
       "      <th>75%</th>\n",
       "      <th>max</th>\n",
       "    </tr>\n",
       "  </thead>\n",
       "  <tbody>\n",
       "    <tr>\n",
       "      <th>price</th>\n",
       "      <td>658.0</td>\n",
       "      <td>81.698298</td>\n",
       "      <td>105.697489</td>\n",
       "      <td>1.050000</td>\n",
       "      <td>37.302500</td>\n",
       "      <td>57.465000</td>\n",
       "      <td>100.042500</td>\n",
       "      <td>1858.86000</td>\n",
       "    </tr>\n",
       "    <tr>\n",
       "      <th>rate</th>\n",
       "      <td>658.0</td>\n",
       "      <td>1.594057</td>\n",
       "      <td>0.300691</td>\n",
       "      <td>0.899350</td>\n",
       "      <td>1.642120</td>\n",
       "      <td>1.646397</td>\n",
       "      <td>1.646948</td>\n",
       "      <td>7.44705</td>\n",
       "    </tr>\n",
       "    <tr>\n",
       "      <th>total</th>\n",
       "      <td>658.0</td>\n",
       "      <td>51.665770</td>\n",
       "      <td>51.722209</td>\n",
       "      <td>0.635447</td>\n",
       "      <td>22.795786</td>\n",
       "      <td>37.475662</td>\n",
       "      <td>66.900335</td>\n",
       "      <td>892.61429</td>\n",
       "    </tr>\n",
       "  </tbody>\n",
       "</table>\n",
       "</div>"
      ],
      "text/plain": [
       "       count       mean         std       min        25%        50%  \\\n",
       "price  658.0  81.698298  105.697489  1.050000  37.302500  57.465000   \n",
       "rate   658.0   1.594057    0.300691  0.899350   1.642120   1.646397   \n",
       "total  658.0  51.665770   51.722209  0.635447  22.795786  37.475662   \n",
       "\n",
       "              75%         max  \n",
       "price  100.042500  1858.86000  \n",
       "rate     1.646948     7.44705  \n",
       "total   66.900335   892.61429  "
      ]
     },
     "execution_count": 35,
     "metadata": {},
     "output_type": "execute_result"
    }
   ],
   "source": [
    "df_new[(df_new.buyer_country == \"AU\") & (df_new.category == \"Shoes\")].describe().T"
   ]
  },
  {
   "cell_type": "code",
   "execution_count": 36,
   "id": "34c707b2",
   "metadata": {},
   "outputs": [
    {
     "name": "stdout",
     "output_type": "stream",
     "text": [
      "<class 'pandas.core.frame.DataFrame'>\n",
      "Int64Index: 658 entries, 13420 to 237627\n",
      "Data columns (total 12 columns):\n",
      " #   Column          Non-Null Count  Dtype         \n",
      "---  ------          --------------  -----         \n",
      " 0   buyer_id        658 non-null    object        \n",
      " 1   buyer_country   658 non-null    object        \n",
      " 2   seller_id       658 non-null    object        \n",
      " 3   seller_country  658 non-null    object        \n",
      " 4   product_code    658 non-null    object        \n",
      " 5   category        658 non-null    object        \n",
      " 6   brand           81 non-null     object        \n",
      " 7   currency        658 non-null    object        \n",
      " 8   price           658 non-null    float64       \n",
      " 9   date            658 non-null    datetime64[ns]\n",
      " 10  rate            658 non-null    float64       \n",
      " 11  total           658 non-null    float64       \n",
      "dtypes: datetime64[ns](1), float64(3), object(8)\n",
      "memory usage: 66.8+ KB\n"
     ]
    }
   ],
   "source": [
    "df_new[(df_new.buyer_country == \"AU\") & (df_new.category == \"Shoes\")].info()"
   ]
  },
  {
   "cell_type": "code",
   "execution_count": 37,
   "id": "44ee95cd",
   "metadata": {},
   "outputs": [
    {
     "data": {
      "text/plain": [
       "(658, 12)"
      ]
     },
     "execution_count": 37,
     "metadata": {},
     "output_type": "execute_result"
    }
   ],
   "source": [
    "df_new[(df_new.buyer_country == \"AU\") & (df_new.category == \"Shoes\")].shape"
   ]
  },
  {
   "cell_type": "code",
   "execution_count": 48,
   "id": "1cc71c0a",
   "metadata": {},
   "outputs": [
    {
     "data": {
      "text/html": [
       "<div>\n",
       "<style scoped>\n",
       "    .dataframe tbody tr th:only-of-type {\n",
       "        vertical-align: middle;\n",
       "    }\n",
       "\n",
       "    .dataframe tbody tr th {\n",
       "        vertical-align: top;\n",
       "    }\n",
       "\n",
       "    .dataframe thead th {\n",
       "        text-align: right;\n",
       "    }\n",
       "</style>\n",
       "<table border=\"1\" class=\"dataframe\">\n",
       "  <thead>\n",
       "    <tr style=\"text-align: right;\">\n",
       "      <th></th>\n",
       "      <th>buyer_id</th>\n",
       "      <th>buyer_country</th>\n",
       "      <th>seller_id</th>\n",
       "      <th>seller_country</th>\n",
       "      <th>product_code</th>\n",
       "      <th>category</th>\n",
       "      <th>brand</th>\n",
       "      <th>currency</th>\n",
       "      <th>price</th>\n",
       "      <th>date</th>\n",
       "      <th>rate</th>\n",
       "      <th>total</th>\n",
       "    </tr>\n",
       "  </thead>\n",
       "  <tbody>\n",
       "    <tr>\n",
       "      <th>143722</th>\n",
       "      <td>cp229qulvz</td>\n",
       "      <td>AU</td>\n",
       "      <td>n5a7dgne</td>\n",
       "      <td>AU</td>\n",
       "      <td>i8wodrnwwrqw</td>\n",
       "      <td>Shoes</td>\n",
       "      <td>NaN</td>\n",
       "      <td>AUD</td>\n",
       "      <td>1.05</td>\n",
       "      <td>2020-08-03</td>\n",
       "      <td>1.652380</td>\n",
       "      <td>0.635447</td>\n",
       "    </tr>\n",
       "    <tr>\n",
       "      <th>140906</th>\n",
       "      <td>lmw492cqez</td>\n",
       "      <td>AU</td>\n",
       "      <td>hlsnetqx</td>\n",
       "      <td>AU</td>\n",
       "      <td>0b1zygaytlhj</td>\n",
       "      <td>Shoes</td>\n",
       "      <td>NaN</td>\n",
       "      <td>AUD</td>\n",
       "      <td>5.38</td>\n",
       "      <td>2020-08-07</td>\n",
       "      <td>1.646397</td>\n",
       "      <td>3.267742</td>\n",
       "    </tr>\n",
       "    <tr>\n",
       "      <th>228570</th>\n",
       "      <td>6q6hnyxvfi</td>\n",
       "      <td>AU</td>\n",
       "      <td>4nydbzyl</td>\n",
       "      <td>AU</td>\n",
       "      <td>bjz3ae8fc46b</td>\n",
       "      <td>Shoes</td>\n",
       "      <td>NaN</td>\n",
       "      <td>AUD</td>\n",
       "      <td>8.72</td>\n",
       "      <td>2020-08-06</td>\n",
       "      <td>1.642120</td>\n",
       "      <td>5.310209</td>\n",
       "    </tr>\n",
       "    <tr>\n",
       "      <th>228566</th>\n",
       "      <td>6q6hnyxvfi</td>\n",
       "      <td>AU</td>\n",
       "      <td>h77xeoh6</td>\n",
       "      <td>AU</td>\n",
       "      <td>rbwl4hti8uim</td>\n",
       "      <td>Shoes</td>\n",
       "      <td>NaN</td>\n",
       "      <td>AUD</td>\n",
       "      <td>10.51</td>\n",
       "      <td>2020-08-06</td>\n",
       "      <td>1.642120</td>\n",
       "      <td>6.400263</td>\n",
       "    </tr>\n",
       "    <tr>\n",
       "      <th>228560</th>\n",
       "      <td>6q6hnyxvfi</td>\n",
       "      <td>AU</td>\n",
       "      <td>h77xeoh6</td>\n",
       "      <td>AU</td>\n",
       "      <td>f927bmdxq788</td>\n",
       "      <td>Shoes</td>\n",
       "      <td>NaN</td>\n",
       "      <td>AUD</td>\n",
       "      <td>10.55</td>\n",
       "      <td>2020-08-06</td>\n",
       "      <td>1.642120</td>\n",
       "      <td>6.424622</td>\n",
       "    </tr>\n",
       "  </tbody>\n",
       "</table>\n",
       "</div>"
      ],
      "text/plain": [
       "          buyer_id buyer_country seller_id seller_country  product_code  \\\n",
       "143722  cp229qulvz            AU  n5a7dgne             AU  i8wodrnwwrqw   \n",
       "140906  lmw492cqez            AU  hlsnetqx             AU  0b1zygaytlhj   \n",
       "228570  6q6hnyxvfi            AU  4nydbzyl             AU  bjz3ae8fc46b   \n",
       "228566  6q6hnyxvfi            AU  h77xeoh6             AU  rbwl4hti8uim   \n",
       "228560  6q6hnyxvfi            AU  h77xeoh6             AU  f927bmdxq788   \n",
       "\n",
       "       category brand currency  price       date      rate     total  \n",
       "143722    Shoes   NaN      AUD   1.05 2020-08-03  1.652380  0.635447  \n",
       "140906    Shoes   NaN      AUD   5.38 2020-08-07  1.646397  3.267742  \n",
       "228570    Shoes   NaN      AUD   8.72 2020-08-06  1.642120  5.310209  \n",
       "228566    Shoes   NaN      AUD  10.51 2020-08-06  1.642120  6.400263  \n",
       "228560    Shoes   NaN      AUD  10.55 2020-08-06  1.642120  6.424622  "
      ]
     },
     "execution_count": 48,
     "metadata": {},
     "output_type": "execute_result"
    }
   ],
   "source": [
    "df_new[(df_new.buyer_country == \"AU\") & (df_new.category == \"Shoes\")].sort_values(by=\"total\").head()"
   ]
  },
  {
   "cell_type": "markdown",
   "id": "b03d57e9",
   "metadata": {},
   "source": [
    "***8. How many pairs of shoes were purchased by Australian (AU) buyers?(Just write the the numbers)***"
   ]
  },
  {
   "cell_type": "code",
   "execution_count": 61,
   "id": "432a310b",
   "metadata": {},
   "outputs": [
    {
     "data": {
      "text/plain": [
       "array(['Dresses', 'Outerwear - Mens', 'Tops - Womens', 'Bottoms - Womens',\n",
       "       'Other', 'Accessories', 'Jewellery', 'Home', 'Music', 'Shoes',\n",
       "       'Tops - Mens', 'Beauty', 'Bottoms - Mens', 'Art', 'Lingerie',\n",
       "       'Outerwear', 'Tech', 'Sports equipment', 'Books & magazines',\n",
       "       'Kids', 'Underwear', 'Transportation', 'Film', nan, 'UNSPECIFIED'],\n",
       "      dtype=object)"
      ]
     },
     "execution_count": 61,
     "metadata": {},
     "output_type": "execute_result"
    }
   ],
   "source": [
    "df_new.category.unique()"
   ]
  },
  {
   "cell_type": "code",
   "execution_count": 62,
   "id": "02f042c3",
   "metadata": {},
   "outputs": [
    {
     "data": {
      "text/plain": [
       "658"
      ]
     },
     "execution_count": 62,
     "metadata": {},
     "output_type": "execute_result"
    }
   ],
   "source": [
    "len(df_new[(df_new.buyer_country == \"AU\") & (df_new.category == \"Shoes\")])"
   ]
  },
  {
   "cell_type": "code",
   "execution_count": 63,
   "id": "beab31df",
   "metadata": {},
   "outputs": [
    {
     "data": {
      "text/plain": [
       "(658, 12)"
      ]
     },
     "execution_count": 63,
     "metadata": {},
     "output_type": "execute_result"
    }
   ],
   "source": [
    "df_new[(df_new.buyer_country == \"AU\") & (df_new.category == \"Shoes\")].shape"
   ]
  },
  {
   "cell_type": "markdown",
   "id": "d9cf95d9",
   "metadata": {},
   "source": [
    "***9. Which brand has the highest average transaction value? (Just write down the brand as in the dataset, your answer is supposed to be case sensitive)***"
   ]
  },
  {
   "cell_type": "code",
   "execution_count": 50,
   "id": "f33845bd",
   "metadata": {},
   "outputs": [
    {
     "data": {
      "text/html": [
       "<div>\n",
       "<style scoped>\n",
       "    .dataframe tbody tr th:only-of-type {\n",
       "        vertical-align: middle;\n",
       "    }\n",
       "\n",
       "    .dataframe tbody tr th {\n",
       "        vertical-align: top;\n",
       "    }\n",
       "\n",
       "    .dataframe thead th {\n",
       "        text-align: right;\n",
       "    }\n",
       "</style>\n",
       "<table border=\"1\" class=\"dataframe\">\n",
       "  <thead>\n",
       "    <tr style=\"text-align: right;\">\n",
       "      <th></th>\n",
       "      <th>price</th>\n",
       "    </tr>\n",
       "    <tr>\n",
       "      <th>brand</th>\n",
       "      <th></th>\n",
       "    </tr>\n",
       "  </thead>\n",
       "  <tbody>\n",
       "    <tr>\n",
       "      <th>&amp; Other Stories</th>\n",
       "      <td>30.566358</td>\n",
       "    </tr>\n",
       "    <tr>\n",
       "      <th>032c</th>\n",
       "      <td>34.252727</td>\n",
       "    </tr>\n",
       "    <tr>\n",
       "      <th>11 Degrees</th>\n",
       "      <td>13.113939</td>\n",
       "    </tr>\n",
       "    <tr>\n",
       "      <th>1822 Denim</th>\n",
       "      <td>18.847500</td>\n",
       "    </tr>\n",
       "    <tr>\n",
       "      <th>3.1 Phillip Lim</th>\n",
       "      <td>35.616000</td>\n",
       "    </tr>\n",
       "    <tr>\n",
       "      <th>...</th>\n",
       "      <td>...</td>\n",
       "    </tr>\n",
       "    <tr>\n",
       "      <th>ghd</th>\n",
       "      <td>56.146000</td>\n",
       "    </tr>\n",
       "    <tr>\n",
       "      <th>kensie</th>\n",
       "      <td>23.450000</td>\n",
       "    </tr>\n",
       "    <tr>\n",
       "      <th>liquid blue</th>\n",
       "      <td>46.085962</td>\n",
       "    </tr>\n",
       "    <tr>\n",
       "      <th>mixxmix</th>\n",
       "      <td>18.787500</td>\n",
       "    </tr>\n",
       "    <tr>\n",
       "      <th>philosophy</th>\n",
       "      <td>26.585000</td>\n",
       "    </tr>\n",
       "  </tbody>\n",
       "</table>\n",
       "<p>1134 rows × 1 columns</p>\n",
       "</div>"
      ],
      "text/plain": [
       "                     price\n",
       "brand                     \n",
       "& Other Stories  30.566358\n",
       "032c             34.252727\n",
       "11 Degrees       13.113939\n",
       "1822 Denim       18.847500\n",
       "3.1 Phillip Lim  35.616000\n",
       "...                    ...\n",
       "ghd              56.146000\n",
       "kensie           23.450000\n",
       "liquid blue      46.085962\n",
       "mixxmix          18.787500\n",
       "philosophy       26.585000\n",
       "\n",
       "[1134 rows x 1 columns]"
      ]
     },
     "execution_count": 50,
     "metadata": {},
     "output_type": "execute_result"
    }
   ],
   "source": [
    "df_new.groupby(\"brand\")[[\"price\"]].mean()"
   ]
  },
  {
   "cell_type": "code",
   "execution_count": 51,
   "id": "f3aa2625",
   "metadata": {},
   "outputs": [
    {
     "data": {
      "text/plain": [
       "'Goyard'"
      ]
     },
     "execution_count": 51,
     "metadata": {},
     "output_type": "execute_result"
    }
   ],
   "source": [
    "df_new.groupby(\"brand\")[\"price\"].mean().idxmax()"
   ]
  },
  {
   "cell_type": "code",
   "execution_count": 52,
   "id": "c9fad872",
   "metadata": {},
   "outputs": [
    {
     "data": {
      "text/plain": [
       "339.3633333333333"
      ]
     },
     "execution_count": 52,
     "metadata": {},
     "output_type": "execute_result"
    }
   ],
   "source": [
    "df_new.groupby(\"brand\")[\"price\"].mean().max()"
   ]
  },
  {
   "cell_type": "code",
   "execution_count": 53,
   "id": "0a6e4c62",
   "metadata": {},
   "outputs": [
    {
     "data": {
      "text/plain": [
       "brand\n",
       "Goyard    339.363333\n",
       "Name: price, dtype: float64"
      ]
     },
     "execution_count": 53,
     "metadata": {},
     "output_type": "execute_result"
    }
   ],
   "source": [
    "df_new.groupby(\"brand\")[\"price\"].mean().sort_values(ascending=False).head(1)"
   ]
  },
  {
   "cell_type": "code",
   "execution_count": 54,
   "id": "6d70465d",
   "metadata": {
    "scrolled": true
   },
   "outputs": [
    {
     "data": {
      "text/html": [
       "<div>\n",
       "<style scoped>\n",
       "    .dataframe tbody tr th:only-of-type {\n",
       "        vertical-align: middle;\n",
       "    }\n",
       "\n",
       "    .dataframe tbody tr th {\n",
       "        vertical-align: top;\n",
       "    }\n",
       "\n",
       "    .dataframe thead th {\n",
       "        text-align: right;\n",
       "    }\n",
       "</style>\n",
       "<table border=\"1\" class=\"dataframe\">\n",
       "  <thead>\n",
       "    <tr style=\"text-align: right;\">\n",
       "      <th></th>\n",
       "      <th>buyer_id</th>\n",
       "      <th>buyer_country</th>\n",
       "      <th>seller_id</th>\n",
       "      <th>seller_country</th>\n",
       "      <th>product_code</th>\n",
       "      <th>category</th>\n",
       "      <th>brand</th>\n",
       "      <th>currency</th>\n",
       "      <th>price</th>\n",
       "      <th>date</th>\n",
       "      <th>rate</th>\n",
       "      <th>total</th>\n",
       "    </tr>\n",
       "  </thead>\n",
       "  <tbody>\n",
       "    <tr>\n",
       "      <th>0</th>\n",
       "      <td>qzpjsi9t0o</td>\n",
       "      <td>GB</td>\n",
       "      <td>6oufpaot</td>\n",
       "      <td>GB</td>\n",
       "      <td>ydecnydr6obf</td>\n",
       "      <td>Dresses</td>\n",
       "      <td>NaN</td>\n",
       "      <td>GBP</td>\n",
       "      <td>19.11</td>\n",
       "      <td>2020-08-03</td>\n",
       "      <td>0.89935</td>\n",
       "      <td>21.248680</td>\n",
       "    </tr>\n",
       "    <tr>\n",
       "      <th>1</th>\n",
       "      <td>rd209r8c7c</td>\n",
       "      <td>GB</td>\n",
       "      <td>9p2ansc9</td>\n",
       "      <td>GB</td>\n",
       "      <td>wpxxf59cq7pc</td>\n",
       "      <td>Outerwear - Mens</td>\n",
       "      <td>Adidas Originals</td>\n",
       "      <td>GBP</td>\n",
       "      <td>24.91</td>\n",
       "      <td>2020-08-03</td>\n",
       "      <td>0.89935</td>\n",
       "      <td>27.697782</td>\n",
       "    </tr>\n",
       "    <tr>\n",
       "      <th>2</th>\n",
       "      <td>pqbcrl8azx</td>\n",
       "      <td>GB</td>\n",
       "      <td>r9zmzem8</td>\n",
       "      <td>GB</td>\n",
       "      <td>ua9mmn86wsqy</td>\n",
       "      <td>Tops - Womens</td>\n",
       "      <td>NaN</td>\n",
       "      <td>GBP</td>\n",
       "      <td>19.31</td>\n",
       "      <td>2020-08-03</td>\n",
       "      <td>0.89935</td>\n",
       "      <td>21.471062</td>\n",
       "    </tr>\n",
       "    <tr>\n",
       "      <th>3</th>\n",
       "      <td>j5en1rwmxp</td>\n",
       "      <td>GB</td>\n",
       "      <td>3o2nz88r</td>\n",
       "      <td>GB</td>\n",
       "      <td>tduo2uy8iszl</td>\n",
       "      <td>Bottoms - Womens</td>\n",
       "      <td>Urban Outfitters</td>\n",
       "      <td>GBP</td>\n",
       "      <td>16.98</td>\n",
       "      <td>2020-08-03</td>\n",
       "      <td>0.89935</td>\n",
       "      <td>18.880302</td>\n",
       "    </tr>\n",
       "    <tr>\n",
       "      <th>4</th>\n",
       "      <td>kjdezxeh1l</td>\n",
       "      <td>GB</td>\n",
       "      <td>7g56ublf</td>\n",
       "      <td>GB</td>\n",
       "      <td>39o00tcu89zq</td>\n",
       "      <td>Other</td>\n",
       "      <td>NaN</td>\n",
       "      <td>GBP</td>\n",
       "      <td>2.85</td>\n",
       "      <td>2020-08-03</td>\n",
       "      <td>0.89935</td>\n",
       "      <td>3.168955</td>\n",
       "    </tr>\n",
       "  </tbody>\n",
       "</table>\n",
       "</div>"
      ],
      "text/plain": [
       "     buyer_id buyer_country seller_id seller_country  product_code  \\\n",
       "0  qzpjsi9t0o            GB  6oufpaot             GB  ydecnydr6obf   \n",
       "1  rd209r8c7c            GB  9p2ansc9             GB  wpxxf59cq7pc   \n",
       "2  pqbcrl8azx            GB  r9zmzem8             GB  ua9mmn86wsqy   \n",
       "3  j5en1rwmxp            GB  3o2nz88r             GB  tduo2uy8iszl   \n",
       "4  kjdezxeh1l            GB  7g56ublf             GB  39o00tcu89zq   \n",
       "\n",
       "           category             brand currency  price       date     rate  \\\n",
       "0           Dresses               NaN      GBP  19.11 2020-08-03  0.89935   \n",
       "1  Outerwear - Mens  Adidas Originals      GBP  24.91 2020-08-03  0.89935   \n",
       "2     Tops - Womens               NaN      GBP  19.31 2020-08-03  0.89935   \n",
       "3  Bottoms - Womens  Urban Outfitters      GBP  16.98 2020-08-03  0.89935   \n",
       "4             Other               NaN      GBP   2.85 2020-08-03  0.89935   \n",
       "\n",
       "       total  \n",
       "0  21.248680  \n",
       "1  27.697782  \n",
       "2  21.471062  \n",
       "3  18.880302  \n",
       "4   3.168955  "
      ]
     },
     "execution_count": 54,
     "metadata": {},
     "output_type": "execute_result"
    }
   ],
   "source": [
    "df_new.head()"
   ]
  },
  {
   "cell_type": "markdown",
   "id": "3a0ce9ab",
   "metadata": {},
   "source": [
    "***10. What is the total value of items purchased by GB buyers from GB sellers? (Just write the numbers in the format of 0.000.000 )***"
   ]
  },
  {
   "cell_type": "code",
   "execution_count": 56,
   "id": "f90aea4a",
   "metadata": {},
   "outputs": [
    {
     "data": {
      "text/plain": [
       "3526745.033129233"
      ]
     },
     "execution_count": 56,
     "metadata": {},
     "output_type": "execute_result"
    }
   ],
   "source": [
    "df_new[(df_new.seller_country == \"GB\") & (df_new.buyer_country == \"GB\")][\"total\"].sum()"
   ]
  },
  {
   "cell_type": "markdown",
   "id": "359cf393",
   "metadata": {},
   "source": [
    "***11. What percentage of US sellers' transactions were purchased by US buyers? (Just write the percentage in the format of 00.00%)***"
   ]
  },
  {
   "cell_type": "code",
   "execution_count": 57,
   "id": "83755a59",
   "metadata": {},
   "outputs": [
    {
     "data": {
      "text/plain": [
       "2021779.311517296"
      ]
     },
     "execution_count": 57,
     "metadata": {},
     "output_type": "execute_result"
    }
   ],
   "source": [
    "US_to_US = df_new[(df_new.seller_country == \"US\") & (df_new.buyer_country == \"US\")][\"total\"].sum()\n",
    "US_to_US"
   ]
  },
  {
   "cell_type": "code",
   "execution_count": 58,
   "id": "ede48371",
   "metadata": {},
   "outputs": [
    {
     "data": {
      "text/plain": [
       "2106695.5606899997"
      ]
     },
     "execution_count": 58,
     "metadata": {},
     "output_type": "execute_result"
    }
   ],
   "source": [
    "US_to_all = df_new[df_new.seller_country == \"US\"][\"total\"].sum()\n",
    "US_to_all"
   ]
  },
  {
   "cell_type": "code",
   "execution_count": 59,
   "id": "a4064c5d",
   "metadata": {},
   "outputs": [
    {
     "data": {
      "text/plain": [
       "0.9596922067159569"
      ]
     },
     "execution_count": 59,
     "metadata": {},
     "output_type": "execute_result"
    }
   ],
   "source": [
    "US_to_US / US_to_all"
   ]
  },
  {
   "cell_type": "markdown",
   "id": "0dc12ebd",
   "metadata": {},
   "source": [
    "***<p style=\"background-color:#9d4f8c; font-family:newtimeroman; color:#FFF9ED; font-size:175%; text-align:center; border-radius:10px 10px;\">The END</p>***"
   ]
  },
  {
   "cell_type": "code",
   "execution_count": null,
   "id": "6a286830",
   "metadata": {},
   "outputs": [],
   "source": []
  }
 ],
 "metadata": {
  "kernelspec": {
   "display_name": "Python 3 (ipykernel)",
   "language": "python",
   "name": "python3"
  },
  "language_info": {
   "codemirror_mode": {
    "name": "ipython",
    "version": 3
   },
   "file_extension": ".py",
   "mimetype": "text/x-python",
   "name": "python",
   "nbconvert_exporter": "python",
   "pygments_lexer": "ipython3",
   "version": "3.9.7"
  },
  "toc": {
   "base_numbering": 1,
   "nav_menu": {},
   "number_sections": true,
   "sideBar": true,
   "skip_h1_title": false,
   "title_cell": "Table of Contents",
   "title_sidebar": "Contents",
   "toc_cell": false,
   "toc_position": {},
   "toc_section_display": true,
   "toc_window_display": false
  },
  "varInspector": {
   "cols": {
    "lenName": 16,
    "lenType": 16,
    "lenVar": 40
   },
   "kernels_config": {
    "python": {
     "delete_cmd_postfix": "",
     "delete_cmd_prefix": "del ",
     "library": "var_list.py",
     "varRefreshCmd": "print(var_dic_list())"
    },
    "r": {
     "delete_cmd_postfix": ") ",
     "delete_cmd_prefix": "rm(",
     "library": "var_list.r",
     "varRefreshCmd": "cat(var_dic_list()) "
    }
   },
   "types_to_exclude": [
    "module",
    "function",
    "builtin_function_or_method",
    "instance",
    "_Feature"
   ],
   "window_display": false
  }
 },
 "nbformat": 4,
 "nbformat_minor": 5
}
